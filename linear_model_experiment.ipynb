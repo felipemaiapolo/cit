{
 "cells": [
  {
   "cell_type": "markdown",
   "id": "a07a8d48",
   "metadata": {},
   "source": [
    "# Setting things up"
   ]
  },
  {
   "cell_type": "code",
   "execution_count": 1,
   "id": "861d6c6c",
   "metadata": {},
   "outputs": [
    {
     "data": {
      "text/plain": [
       "8"
      ]
     },
     "execution_count": 1,
     "metadata": {},
     "output_type": "execute_result"
    }
   ],
   "source": [
    "import numpy as np\n",
    "import time\n",
    "import pandas as pd\n",
    "import scipy\n",
    "import matplotlib.pyplot as plt\n",
    "from sklearn.linear_model import LassoCV, RidgeCV\n",
    "from tqdm import tqdm\n",
    "import multiprocessing as mp\n",
    "\n",
    "random_state=42\n",
    "np.random.seed(random_state)\n",
    "cpu=mp.cpu_count() \n",
    "cpu"
   ]
  },
  {
   "cell_type": "code",
   "execution_count": 2,
   "id": "cad2ab90",
   "metadata": {},
   "outputs": [],
   "source": [
    "alpha=.1 #Significance level\n",
    "iterations=500 #MC simulations to calculate type-1 error and power\n",
    "n_vals=100 #Number of training sets\n",
    "p=500 #Z dim\n",
    "m=250 #Training set size\n",
    "n=250 #Test set size\n",
    "frac=.01\n",
    "\n",
    "class Lasso():\n",
    "    def __init__(self, random_state):\n",
    "        self.random_state = random_state\n",
    "    def fit(self, X, Y):\n",
    "        self.model = LassoCV(cv=5, random_state=self.random_state).fit(X, Y.squeeze())\n",
    "    def predict(self, X):\n",
    "        return self.model.predict(X).reshape((-1,1))\n",
    "    \n",
    "class Ridge():\n",
    "    def __init__(self):\n",
    "        pass\n",
    "    def fit(self, X, Y):\n",
    "        self.model = RidgeCV(cv=5).fit(X, Y.squeeze())\n",
    "    def predict(self, X):\n",
    "        return self.model.predict(X).reshape((-1,1))\n",
    "    \n",
    "class MinimumNorm():\n",
    "    def __init__(self):\n",
    "        pass\n",
    "    def fit(self, X, Y):\n",
    "        self.beta = X.T@np.linalg.inv(X@X.T)@Y\n",
    "    def predict(self, X):\n",
    "        return X@self.beta\n",
    "    \n",
    "def get_pval_gcm(X, Z, Y, model_x, model_y):\n",
    "    n = X.shape[0]\n",
    "    rx = X-model_x.predict(Z)\n",
    "    ry = Y-model_y.predict(Z)\n",
    "    T = rx.squeeze()*ry.squeeze()\n",
    "    pval = 2*(1 - scipy.stats.norm.cdf(abs(np.sqrt(n)*np.mean(T)/np.std(T))))\n",
    "    return pval\n",
    "\n",
    "def exp_linear_model(rs):\n",
    "    \n",
    "    #time.sleep(rs**.5) \n",
    "    #print(\"*\",rs,\"*\")\n",
    "    \n",
    "    total = 3*(iterations+1)\n",
    "    pvals = []\n",
    "\n",
    "    #Generative params\n",
    "    beta_x = np.vstack((20*np.ones(int(frac*p)).reshape((-1,1)), np.zeros(p-int(frac*p)).reshape((-1,1))))\n",
    "    beta_y = np.vstack((np.zeros(p-int(frac*p)).reshape((-1,1)), 20*np.ones(int(frac*p)).reshape((-1,1))))\n",
    "\n",
    "    #Training data\n",
    "    Z_train_state = np.random.RandomState(total*rs)\n",
    "    Z_train = Z_train_state.normal(0, 1, m*p).reshape((m,p))\n",
    "    X_train_state = np.random.RandomState(total*rs+1)\n",
    "    X_train = Z_train@beta_x\n",
    "    X_train += X_train_state.normal(0, 1, X_train.shape)\n",
    "    Y_train_state = np.random.RandomState(total*rs+2)\n",
    "    Y_train = Z_train@beta_y\n",
    "    Y_train += Y_train_state.normal(0, 1, Y_train.shape)\n",
    "\n",
    "    #Models\n",
    "    lasso_x = Lasso(0)\n",
    "    lasso_x.fit(Z_train, X_train)\n",
    "    lasso_y = Lasso(0)\n",
    "    lasso_y.fit(Z_train, Y_train)\n",
    "    mn_x = MinimumNorm()\n",
    "    mn_x.fit(Z_train, X_train)\n",
    "    mn_y = MinimumNorm()\n",
    "    mn_y.fit(Z_train, Y_train)\n",
    "\n",
    "    for it in range(iterations):\n",
    "        Z_test_state = np.random.RandomState(total*rs + 3*(it+1))\n",
    "        Z_test = np.random.normal(0, 1, m*p).reshape((m,p))\n",
    "        X_test_state = np.random.RandomState(total*rs + 3*(it+1) + 1)\n",
    "        X_test = Z_test@beta_x\n",
    "        X_test += np.random.normal(0, 1, X_test.shape)\n",
    "        Y_test_state = np.random.RandomState(total*rs + 3*(it+1) + 2)\n",
    "        Y_test = Z_test@beta_y\n",
    "        Y_test += np.random.normal(0, 1, X_test.shape)\n",
    "\n",
    "        #Tests\n",
    "        pvals.append([get_pval_gcm(X_test, Z_test, Y_test, lasso_x, lasso_y),\n",
    "                      get_pval_gcm(X_test, Z_test, Y_test, mn_x, mn_y)])\n",
    "    \n",
    "    return pvals\n"
   ]
  },
  {
   "cell_type": "code",
   "execution_count": 3,
   "id": "3ba739dc",
   "metadata": {},
   "outputs": [
    {
     "name": "stdout",
     "output_type": "stream",
     "text": [
      "CPU times: user 372 ms, sys: 247 ms, total: 618 ms\n",
      "Wall time: 5min 56s\n"
     ]
    }
   ],
   "source": [
    "%%time\n",
    "\n",
    "pool = mp.Pool(cpu)\n",
    "pvals = pool.map(exp_linear_model, [j for j in range(n_vals)])\n",
    "pool.close()\n",
    "pool.join()\n",
    "pvals = np.array(pvals)"
   ]
  },
  {
   "cell_type": "code",
   "execution_count": 4,
   "id": "e9295d3d",
   "metadata": {},
   "outputs": [],
   "source": [
    "error = np.mean(pvals<alpha, axis=1)"
   ]
  },
  {
   "cell_type": "code",
   "execution_count": 5,
   "id": "176f6678",
   "metadata": {},
   "outputs": [
    {
     "data": {
      "image/png": "[encoded data removed]",
      "text/plain": [
       "<Figure size 432x288 with 1 Axes>"
      ]
     },
     "metadata": {
      "needs_background": "light"
     },
     "output_type": "display_data"
    }
   ],
   "source": [
    "plt.hist(error[:,0], alpha=.5, density=True, label='LASSO')\n",
    "plt.hist(error[:,1], alpha=.5, density=True, label='Minimum-norm')\n",
    "plt.xticks(fontsize=14)\n",
    "plt.yticks(fontsize=14)\n",
    "plt.xlabel(\"Type-I error rate\", size=17)\n",
    "plt.ylabel(\"Density\", size=17)\n",
    "plt.axvline(x=alpha, color='black', linestyle='--', lw=1, alpha=.75)\n",
    "plt.grid(alpha=.2)\n",
    "plt.legend(framealpha=0.75, prop={'size': 15}, ncol=1) \n",
    "plt.savefig('plots/linear_model_exp.png', bbox_inches='tight', dpi=300, transparent=True)\n",
    "plt.show()"
   ]
  }
 ],
 "metadata": {
  "kernelspec": {
   "display_name": "Python 3 (ipykernel)",
   "language": "python",
   "name": "python3"
  },
  "language_info": {
   "codemirror_mode": {
    "name": "ipython",
    "version": 3
   },
   "file_extension": ".py",
   "mimetype": "text/x-python",
   "name": "python",
   "nbconvert_exporter": "python",
   "pygments_lexer": "ipython3",
   "version": "3.7.13"
  }
 },
 "nbformat": 4,
 "nbformat_minor": 5
}
