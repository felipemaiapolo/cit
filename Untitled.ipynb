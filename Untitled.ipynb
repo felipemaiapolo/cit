{
 "cells": [
  {
   "cell_type": "code",
   "execution_count": 1,
   "id": "149d1f8c",
   "metadata": {},
   "outputs": [],
   "source": [
    "import pandas as pd"
   ]
  },
  {
   "cell_type": "code",
   "execution_count": 23,
   "id": "d7152a0b",
   "metadata": {},
   "outputs": [],
   "source": [
    "data=pd.read_csv('results/artificial_data_experiments_skew0.csv')"
   ]
  },
  {
   "cell_type": "code",
   "execution_count": 25,
   "id": "f9dfb51e",
   "metadata": {},
   "outputs": [
    {
     "data": {
      "text/plain": [
       "<AxesSubplot:>"
      ]
     },
     "execution_count": 25,
     "metadata": {},
     "output_type": "execute_result"
    },
    {
     "data": {
      "image/png": "[encoded data removed]",
      "text/plain": [
       "<Figure size 432x288 with 1 Axes>"
      ]
     },
     "metadata": {
      "needs_background": "light"
     },
     "output_type": "display_data"
    }
   ],
   "source": [
    "data.loc[(data.set=='type1_2')&(data.theta==6)&(data.loss=='mse')].rbpt.hist()"
   ]
  },
  {
   "cell_type": "code",
   "execution_count": null,
   "id": "319736a3",
   "metadata": {},
   "outputs": [],
   "source": []
  }
 ],
 "metadata": {
  "kernelspec": {
   "display_name": "Python 3 (ipykernel)",
   "language": "python",
   "name": "python3"
  },
  "language_info": {
   "codemirror_mode": {
    "name": "ipython",
    "version": 3
   },
   "file_extension": ".py",
   "mimetype": "text/x-python",
   "name": "python",
   "nbconvert_exporter": "python",
   "pygments_lexer": "ipython3",
   "version": "3.7.13"
  }
 },
 "nbformat": 4,
 "nbformat_minor": 5
}
