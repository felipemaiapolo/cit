{
 "cells": [
  {
   "cell_type": "code",
   "execution_count": 1,
   "id": "0ed45685",
   "metadata": {},
   "outputs": [
    {
     "data": {
      "text/plain": [
       "8"
      ]
     },
     "execution_count": 1,
     "metadata": {},
     "output_type": "execute_result"
    }
   ],
   "source": [
    "from general import *\n",
    "from exp2 import *\n",
    "import time\n",
    "import copy\n",
    "import multiprocessing as mp\n",
    "\n",
    "random_state=42\n",
    "np.random.seed(random_state)\n",
    "cpu=mp.cpu_count() \n",
    "cpu"
   ]
  },
  {
   "cell_type": "markdown",
   "id": "5a944a2d",
   "metadata": {},
   "source": [
    "## Experiment "
   ]
  },
  {
   "cell_type": "code",
   "execution_count": 2,
   "id": "4a976955",
   "metadata": {},
   "outputs": [],
   "source": [
    "labels = ['California','Illinois','Missouri','Texas']\n",
    "alpha=.05\n",
    "loss='mse'\n",
    "colors = ['#1f77b4', '#ff7f0e', '#2ca02c', '#d62728', '#9467bd', '#8c564b', '#e377c2']\n",
    "B=100\n",
    "n_vals=10\n",
    "iterations=6*8\n",
    "percent=False"
   ]
  },
  {
   "cell_type": "code",
   "execution_count": 3,
   "id": "ba3685a0",
   "metadata": {},
   "outputs": [
    {
     "name": "stdout",
     "output_type": "stream",
     "text": [
      "CPU times: user 1.16 s, sys: 742 ms, total: 1.9 s\n",
      "Wall time: 24min 2s\n"
     ]
    }
   ],
   "source": [
    "%%time\n",
    "pool = mp.Pool(cpu)\n",
    "out = pool.starmap(exp22, [(it, n_vals, loss, alpha, B, percent) for it in range(iterations)])\n",
    "pool.close()                 "
   ]
  },
  {
   "cell_type": "code",
   "execution_count": null,
   "id": "a8c0dd27",
   "metadata": {},
   "outputs": [],
   "source": [
    "(np.array(out)>alpha).mean(axis=0)"
   ]
  },
  {
   "cell_type": "code",
   "execution_count": 33,
   "id": "c97e0a4b",
   "metadata": {},
   "outputs": [],
   "source": [
    "reject_prop = np.percentile(np.array(out), axis=0, q=[75]).squeeze() #np.array(out).mean(axis=0) \n",
    "reject_rbpt = reject_prop[:,0]\n",
    "reject_rbpt2 = reject_prop[:,1]\n",
    "reject_stfr = reject_prop[:,2]\n",
    "reject_gcm = reject_prop[:,3]\n",
    "reject_crt = reject_prop[:,4]\n",
    "reject_cpt = reject_prop[:,5]"
   ]
  },
  {
   "cell_type": "code",
   "execution_count": 34,
   "id": "434cb5b7",
   "metadata": {},
   "outputs": [
    {
     "data": {
      "image/png": "[encoded data removed]",
      "text/plain": [
       "<Figure size 432x288 with 1 Axes>"
      ]
     },
     "metadata": {
      "needs_background": "light"
     },
     "output_type": "display_data"
    }
   ],
   "source": [
    "x = np.arange(len(labels))  # the label locations\n",
    "width = 0.4  # the width of the bars\n",
    "\n",
    "rects1 = plt.bar(x - width*5/8, reject_rbpt, width*2/8, label='RBPT', color=colors[0], alpha=.8)\n",
    "rects2 = plt.bar(x - width*3/8, reject_rbpt2, width*2/8, label='RBPT2', color=colors[1], alpha=.8)\n",
    "rects3 = plt.bar(x - width*1/8, reject_stfr, width*2/8, label='STFR', color=colors[2], alpha=.8)\n",
    "rects5 = plt.bar(x + width*1/8, reject_gcm, width*2/8, label='GCM', color=colors[4], alpha=.8)\n",
    "rects6 = plt.bar(x + width*3/8, reject_crt, width*2/8, label='CRT', color=colors[5], alpha=.8)\n",
    "rects7 = plt.bar(x + width*5/8, reject_cpt, width*2/8, label='CPT', color=colors[6], alpha=.8)\n",
    "\n",
    "\n",
    "# Add some text for labels, title and custom x-axis tick labels, etc.\n",
    "plt.ylabel('Type-I error rate', size=14)\n",
    "plt.xticks(x, labels, fontsize=13)\n",
    "plt.legend(framealpha=0.5, prop={'size': 11}) \n",
    "plt.axhline(y=alpha, color='black', linestyle='--', lw=1, alpha=.5)\n",
    "plt.yticks(fontsize=12)\n",
    "plt.ylim(0,.3)\n",
    "plt.grid(alpha=.2)\n",
    "\n",
    "plt.savefig('plots/exp22_{:}_{:}.png'.format(loss,percent), bbox_inches='tight', dpi=300, transparent=True)\n",
    "plt.show()"
   ]
  },
  {
   "cell_type": "code",
   "execution_count": null,
   "id": "0f8d2915",
   "metadata": {},
   "outputs": [],
   "source": []
  }
 ],
 "metadata": {
  "kernelspec": {
   "display_name": "Python 3 (ipykernel)",
   "language": "python",
   "name": "python3"
  },
  "language_info": {
   "codemirror_mode": {
    "name": "ipython",
    "version": 3
   },
   "file_extension": ".py",
   "mimetype": "text/x-python",
   "name": "python",
   "nbconvert_exporter": "python",
   "pygments_lexer": "ipython3",
   "version": "3.7.13"
  }
 },
 "nbformat": 4,
 "nbformat_minor": 5
}
