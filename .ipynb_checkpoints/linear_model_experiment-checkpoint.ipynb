{
 "cells": [
  {
   "cell_type": "markdown",
   "id": "a07a8d48",
   "metadata": {},
   "source": [
    "# Setting things up"
   ]
  },
  {
   "cell_type": "code",
   "execution_count": 1,
   "id": "861d6c6c",
   "metadata": {},
   "outputs": [
    {
     "data": {
      "text/plain": [
       "8"
      ]
     },
     "execution_count": 1,
     "metadata": {},
     "output_type": "execute_result"
    }
   ],
   "source": [
    "import numpy as np\n",
    "import time\n",
    "import pandas as pd\n",
    "import scipy\n",
    "import matplotlib.pyplot as plt\n",
    "from sklearn.linear_model import LassoCV, LinearRegression\n",
    "from sklearn.decomposition import PCA\n",
    "from tqdm import tqdm\n",
    "import multiprocessing as mp\n",
    "\n",
    "random_state=42\n",
    "np.random.seed(random_state)\n",
    "cpu=mp.cpu_count() \n",
    "cpu"
   ]
  },
  {
   "cell_type": "code",
   "execution_count": 2,
   "id": "cad2ab90",
   "metadata": {},
   "outputs": [],
   "source": [
    "alpha=.01 #Significance level\n",
    "iterations=500 #MC simulations to calculate type-1 error and power\n",
    "n_vals=100 #Number of training sets\n",
    "dz=300 #Z dim\n",
    "m=250 #Training set size\n",
    "n=250 #Test set size\n",
    "frac=.1\n",
    "pca_d=10\n",
    "\n",
    "class Lasso():\n",
    "    def __init__(self, random_state):\n",
    "        self.random_state = random_state\n",
    "    def fit(self, X, Y):\n",
    "        self.model = LassoCV(cv=5, n_alphas=100, random_state=self.random_state).fit(X, Y.squeeze())\n",
    "    def predict(self, X):\n",
    "        return self.model.predict(X).reshape((-1,1))\n",
    "\n",
    "class PCR():\n",
    "    def __init__(self, d):\n",
    "        self.d=d\n",
    "    def fit(self, X, Y):\n",
    "        self.pca = PCA(n_components=self.d)\n",
    "        self.model = LinearRegression().fit(self.pca.fit_transform(X), Y.squeeze())\n",
    "    def predict(self, X):\n",
    "        return self.model.predict(self.pca.transform(X)).reshape((-1,1))\n",
    "\n",
    "def get_pval_stfr(X, Z, Y, model_1, model_2):\n",
    "    n = X.shape[0]\n",
    "    loss1 = (model_1.predict(np.hstack((X,Z))) - Y)**2\n",
    "    loss2 = (model_2.predict(Z) - Y)**2\n",
    "    T = loss2-loss1\n",
    "    pval = 1 - scipy.stats.norm.cdf(np.sqrt(n)*np.mean(T)/np.std(T))\n",
    "    return pval\n",
    "\n",
    "def exp_linear_model(rs):\n",
    "    \n",
    "    #time.sleep(rs**.5) \n",
    "    #print(\"*\",rs,\"*\")\n",
    "    \n",
    "    total = 3*(iterations+1)\n",
    "    pvals = []\n",
    "\n",
    "    #Generative params\n",
    "    beta = np.vstack((np.ones(int(frac*dz)).reshape((-1,1)), np.zeros(dz-int(frac*dz)).reshape((-1,1))))\n",
    "\n",
    "    #Training data\n",
    "    Z_train_state = np.random.RandomState(total*rs)\n",
    "    Z_train = Z_train_state.normal(0, 1, m*dz).reshape((m,dz))\n",
    "    X_train_state = np.random.RandomState(total*rs+1)\n",
    "    X_train = (Z_train@beta) \n",
    "    X_train += X_train_state.normal(0, 1, X_train.shape)\n",
    "    Y_train_state = np.random.RandomState(total*rs+2)\n",
    "    Y_train = (Z_train@beta)  \n",
    "    Y_train += Y_train_state.normal(0, 1, Y_train.shape)\n",
    "\n",
    "    #Models\n",
    "    lasso_1 = Lasso(0)\n",
    "    lasso_1.fit(np.hstack((Z_train, X_train)), Y_train)\n",
    "    lasso_2 = Lasso(0)\n",
    "    lasso_2.fit(Z_train, Y_train)\n",
    "    pcr_1 = PCR(pca_d)\n",
    "    pcr_1.fit(np.hstack((Z_train, X_train)), Y_train)\n",
    "    pcr_2 = PCR(pca_d)\n",
    "    pcr_2.fit(Z_train, Y_train)\n",
    "\n",
    "    for it in range(iterations):\n",
    "    \n",
    "        Z_test_state = np.random.RandomState(total*rs + 3*(it+1))\n",
    "        Z_test = Z_test_state.normal(0, 1, m*dz).reshape((m,dz))\n",
    "        X_test_state = np.random.RandomState(total*rs + 3*(it+1) + 1)\n",
    "        X_test = (Z_test@beta) \n",
    "        X_test += X_test_state.normal(0, 1, X_test.shape)\n",
    "        Y_test_state = np.random.RandomState(total*rs + 3*(it+1) + 2)\n",
    "        Y_test = (Z_test@beta)\n",
    "        Y_test += Y_test_state.normal(0, 1, Y_test.shape)\n",
    "\n",
    "        #Tests\n",
    "        pvals.append([get_pval_stfr(X_test, Z_test, Y_test, lasso_1, lasso_2),\n",
    "                      get_pval_stfr(X_test, Z_test, Y_test, pcr_1, pcr_2)])\n",
    "\n",
    "    return pvals"
   ]
  },
  {
   "cell_type": "code",
   "execution_count": 3,
   "id": "3ba739dc",
   "metadata": {},
   "outputs": [
    {
     "name": "stdout",
     "output_type": "stream",
     "text": [
      "CPU times: user 338 ms, sys: 200 ms, total: 539 ms\n",
      "Wall time: 2min 46s\n"
     ]
    }
   ],
   "source": [
    "%%time\n",
    "\n",
    "pool = mp.Pool(cpu)\n",
    "pvals = pool.map(exp_linear_model, [j for j in range(n_vals)])\n",
    "pool.close()\n",
    "pool.join()\n",
    "pvals = np.array(pvals)"
   ]
  },
  {
   "cell_type": "code",
   "execution_count": 4,
   "id": "37fb9294",
   "metadata": {},
   "outputs": [
    {
     "data": {
      "text/plain": [
       "(100, 500, 2)"
      ]
     },
     "execution_count": 4,
     "metadata": {},
     "output_type": "execute_result"
    }
   ],
   "source": [
    "pvals.shape"
   ]
  },
  {
   "cell_type": "code",
   "execution_count": 13,
   "id": "e9295d3d",
   "metadata": {},
   "outputs": [],
   "source": [
    "error = np.mean(pvals<alpha, axis=1)"
   ]
  },
  {
   "cell_type": "code",
   "execution_count": 14,
   "id": "cdc876e6",
   "metadata": {},
   "outputs": [
    {
     "data": {
      "text/plain": [
       "(100, 2)"
      ]
     },
     "execution_count": 14,
     "metadata": {},
     "output_type": "execute_result"
    }
   ],
   "source": [
    "error.shape"
   ]
  },
  {
   "cell_type": "code",
   "execution_count": 18,
   "id": "176f6678",
   "metadata": {},
   "outputs": [
    {
     "data": {
      "image/png": "[encoded data removed]",
      "text/plain": [
       "<Figure size 432x288 with 1 Axes>"
      ]
     },
     "metadata": {
      "needs_background": "light"
     },
     "output_type": "display_data"
    }
   ],
   "source": [
    "plt.hist(error[:,0], alpha=.7, bins=30, density=True, label='LASSO')\n",
    "plt.hist(error[:,1], alpha=.7, bins=30, density=True, label='PCR')\n",
    "plt.xlim(0,1)\n",
    "plt.xticks(fontsize=14)\n",
    "plt.yticks(fontsize=14)\n",
    "plt.xlabel(\"Type-I error rate\", size=17)\n",
    "plt.ylabel(\"Density\", size=17)\n",
    "plt.axvline(x=alpha, color='black', linestyle='--', lw=1, alpha=.75)\n",
    "plt.grid(alpha=.2)\n",
    "plt.legend(framealpha=0.75, prop={'size': 15}, ncol=1) \n",
    "plt.savefig('plots/linear_model_exp.png', bbox_inches='tight', dpi=300, transparent=True)\n",
    "plt.show()"
   ]
  },
  {
   "cell_type": "code",
   "execution_count": null,
   "id": "7a6d7d49",
   "metadata": {},
   "outputs": [],
   "source": []
  }
 ],
 "metadata": {
  "kernelspec": {
   "display_name": "Python 3 (ipykernel)",
   "language": "python",
   "name": "python3"
  },
  "language_info": {
   "codemirror_mode": {
    "name": "ipython",
    "version": 3
   },
   "file_extension": ".py",
   "mimetype": "text/x-python",
   "name": "python",
   "nbconvert_exporter": "python",
   "pygments_lexer": "ipython3",
   "version": "3.7.13"
  }
 },
 "nbformat": 4,
 "nbformat_minor": 5
}
