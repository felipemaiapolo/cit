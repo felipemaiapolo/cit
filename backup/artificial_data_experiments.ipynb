{
 "cells": [
  {
   "cell_type": "markdown",
   "id": "a07a8d48",
   "metadata": {},
   "source": [
    "# Setting things up"
   ]
  },
  {
   "cell_type": "code",
   "execution_count": 1,
   "id": "861d6c6c",
   "metadata": {},
   "outputs": [
    {
     "data": {
      "text/plain": [
       "8"
      ]
     },
     "execution_count": 1,
     "metadata": {},
     "output_type": "execute_result"
    }
   ],
   "source": [
    "from general import *\n",
    "from exp1 import *\n",
    "import time\n",
    "import pandas as pd\n",
    "import multiprocessing as mp\n",
    "\n",
    "random_state=42\n",
    "np.random.seed(random_state)\n",
    "cpu=mp.cpu_count() \n",
    "cpu"
   ]
  },
  {
   "cell_type": "code",
   "execution_count": 100,
   "id": "cad2ab90",
   "metadata": {},
   "outputs": [],
   "source": [
    "####\n",
    "alpha=.05 #Significance level\n",
    "m=700 #Training set size\n",
    "n=1000 #Test set size"
   ]
  },
  {
   "cell_type": "markdown",
   "id": "42b311e0",
   "metadata": {},
   "source": [
    "# Experiments"
   ]
  },
  {
   "cell_type": "code",
   "execution_count": 106,
   "id": "4def8674",
   "metadata": {},
   "outputs": [],
   "source": [
    "it=3\n",
    "c=0.2\n",
    "skew=0\n",
    "gamma=0\n",
    "theta=0\n",
    "p=30\n",
    "a=np.random.normal(0, 1, p).reshape(p,1)\n",
    "#a/=np.sqrt((a**2).sum())\n",
    "b=np.random.normal(0, 1, p).reshape(p,1)\n",
    "#b/=np.sqrt((b**2).sum())"
   ]
  },
  {
   "cell_type": "code",
   "execution_count": 107,
   "id": "c554f2b0",
   "metadata": {},
   "outputs": [],
   "source": [
    "iterations=20"
   ]
  },
  {
   "cell_type": "code",
   "execution_count": null,
   "id": "7d3d8a2e",
   "metadata": {},
   "outputs": [
    {
     "name": "stderr",
     "output_type": "stream",
     "text": [
      " 15%|█▌        | 3/20 [00:04<00:19,  1.12s/it]"
     ]
    }
   ],
   "source": [
    "eh=[]\n",
    "erb=[]\n",
    "\n",
    "for it in tqdm(range(iterations)):\n",
    "    #Gen. training data\n",
    "    Z_train=sample_z(m, p, random_state=2*it)\n",
    "    X_train=sample_x(Z_train, b, random_state=2*it)\n",
    "    Y_train=sample_y(X_train, Z_train, a, b, c, gamma, skew, random_state=2*it)\n",
    "\n",
    "    #Gen. test data\n",
    "    Z_test=sample_z(n, p, random_state=2*it+1)\n",
    "    X_test=sample_x(Z_test, b, random_state=2*it+1)\n",
    "    Y_test=sample_y(X_test, Z_test, a, b, c, gamma, skew, random_state=2*it+1)  \n",
    "\n",
    "    #Fitting models\n",
    "    g1 = g()\n",
    "    g1.fit(X_train, Z_train, Y_train)\n",
    "    g2 = g()\n",
    "    g2.fit(None, Z_train, Y_train)\n",
    "    g3 = g()\n",
    "    g3.fit(None, Z_train, X_train)\n",
    "\n",
    "\n",
    "    k=10\n",
    "    h = GridSearchCV(KernelRidge(kernel='poly'), cv=2, n_jobs=-1, scoring='neg_mean_squared_error',\n",
    "                     param_grid={\"alpha\": np.logspace(0,-k,k), \"degree\": [2]})\n",
    "\n",
    "    h.fit(Z_train, g1.predict(X_train,Z_train))\n",
    "    #print(h.best_params_)\n",
    "\n",
    "    eh.append(np.mean((h.predict(Z_test)-Y_test)**2)-np.mean((g1.predict(X_test,Z_test)-Y_test)**2))\n",
    "    erb.append(np.mean((g1.predict(mu_x(Z_test, b) + theta, Z_test)-Y_test)**2)-np.mean((g1.predict(X_test,Z_test)-Y_test)**2))"
   ]
  },
  {
   "cell_type": "code",
   "execution_count": null,
   "id": "0c93dace",
   "metadata": {},
   "outputs": [],
   "source": [
    "plt.hist(eh, alpha=.5, density=True)\n",
    "plt.hist(erb,alpha=.5, density=True)\n",
    "plt.show()"
   ]
  },
  {
   "cell_type": "code",
   "execution_count": null,
   "id": "29848f26",
   "metadata": {},
   "outputs": [],
   "source": [
    "np.median(eh), np.median(erb)"
   ]
  },
  {
   "cell_type": "code",
   "execution_count": null,
   "id": "dab4b69f",
   "metadata": {},
   "outputs": [],
   "source": []
  },
  {
   "cell_type": "code",
   "execution_count": null,
   "id": "83860462",
   "metadata": {},
   "outputs": [],
   "source": []
  }
 ],
 "metadata": {
  "kernelspec": {
   "display_name": "Python 3 (ipykernel)",
   "language": "python",
   "name": "python3"
  },
  "language_info": {
   "codemirror_mode": {
    "name": "ipython",
    "version": 3
   },
   "file_extension": ".py",
   "mimetype": "text/x-python",
   "name": "python",
   "nbconvert_exporter": "python",
   "pygments_lexer": "ipython3",
   "version": "3.7.13"
  }
 },
 "nbformat": 4,
 "nbformat_minor": 5
}
