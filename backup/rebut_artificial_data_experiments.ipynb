{
 "cells": [
  {
   "cell_type": "markdown",
   "id": "a07a8d48",
   "metadata": {},
   "source": [
    "# Setting things up"
   ]
  },
  {
   "cell_type": "code",
   "execution_count": 1,
   "id": "861d6c6c",
   "metadata": {},
   "outputs": [
    {
     "data": {
      "text/plain": [
       "8"
      ]
     },
     "execution_count": 1,
     "metadata": {},
     "output_type": "execute_result"
    }
   ],
   "source": [
    "from general import *\n",
    "from exp1 import *\n",
    "import time\n",
    "import pandas as pd\n",
    "import multiprocessing as mp\n",
    "\n",
    "random_state=42\n",
    "np.random.seed(random_state)\n",
    "cpu=mp.cpu_count() \n",
    "cpu"
   ]
  },
  {
   "cell_type": "code",
   "execution_count": 18,
   "id": "cad2ab90",
   "metadata": {},
   "outputs": [],
   "source": [
    "####\n",
    "alpha=.05 #Significance level\n",
    "iterations=48 #MC simulations to calculate type-1 error and power\n",
    "ps=[75] #Z dim\n",
    "m=400 #Training set size\n",
    "n=100 #Test set size\n",
    "B=100 #Number of permutations/samplings (RESIT,CRT,CPT)\n",
    "npar = 7 #Number of different values for parameters like gamma, theta, c etc.\n",
    "nbas = 1 #Number of different generative configurations (different pairs (a,b))\n",
    "\n",
    "####\n",
    "skews = [0]\n",
    "losses = ['mse']"
   ]
  },
  {
   "cell_type": "code",
   "execution_count": 19,
   "id": "e7072ea4",
   "metadata": {},
   "outputs": [
    {
     "data": {
      "text/plain": [
       "0.042666666666666665"
      ]
     },
     "execution_count": 19,
     "metadata": {},
     "output_type": "execute_result"
    }
   ],
   "source": [
    "(((iterations*nbas*len(skews)*len(losses)*len(ps)))/(100*30))*(160/60)"
   ]
  },
  {
   "cell_type": "markdown",
   "id": "42b311e0",
   "metadata": {},
   "source": [
    "# Experiments"
   ]
  },
  {
   "cell_type": "code",
   "execution_count": 20,
   "id": "c7ce9420",
   "metadata": {},
   "outputs": [
    {
     "name": "stderr",
     "output_type": "stream",
     "text": [
      "100%|██████████| 1/1 [01:10<00:00, 70.19s/it]\n"
     ]
    }
   ],
   "source": [
    "results = {'set':[], 'p':[],\n",
    "           'ba':[], 'c':[], 'theta':[], 'skew':[], 'gamma':[], 'loss':[],\n",
    "           'stfr':[], 'resit':[], 'gcm':[], 'crt':[], 'cpt':[],'rbpt':[], 'rbpt2':[]}\n",
    "\n",
    "count=0\n",
    "\n",
    "for p in ps:\n",
    "    bas = [[np.random.normal(0, 1, p).reshape(p,1), np.random.normal(0, 1, p).reshape(p,1)] for j in range(nbas)]\n",
    "    for ba in tqdm(bas):\n",
    "        # Parameters a and b\n",
    "        b = ba[0]\n",
    "        a = ba[1]\n",
    "\n",
    "        for skew in skews:\n",
    "            for loss in losses:\n",
    "\n",
    "                #### Type I error ####\n",
    "                c = 0\n",
    "\n",
    "                #STFR,RESIT,GCM,RBPT,RBPT2#\n",
    "                tests={'stfr':False, 'resit':False, 'gcm':False, 'crt':False, 'cpt':False,'rbpt':False, 'rbpt2':True}\n",
    "                theta=0\n",
    "                gammas = np.linspace(0,.04,npar)\n",
    "                for gamma in gammas:\n",
    "                    # Running\n",
    "                    pool = mp.Pool(cpu)\n",
    "                    out = pool.starmap(exp1, [(it, theta, gamma, c, a, b, skew, m, n, p, loss, alpha, B, tests) for it in range(iterations)])\n",
    "                    pool.close()\n",
    "                    out = np.array(out).mean(axis=0)\n",
    "\n",
    "                    # Storing results\n",
    "                    results['set'].append('type1_1')\n",
    "                    results['p'].append(p)\n",
    "                    results['ba'].append(count); results['c'].append(c); results['theta'].append(theta); results['skew'].append(skew); results['gamma'].append(gamma); results['loss'].append(loss) \n",
    "                    results['stfr'].append(out[0]); results['resit'].append(out[1]); results['gcm'].append(out[2]); results['crt'].append(out[3]); results['cpt'].append(out[4]); results['rbpt'].append(out[5]); results['rbpt2'].append(out[6])\n",
    "\n",
    "                #CRT,CPT,RBPT#\n",
    "                tests={'stfr':False, 'resit':False, 'gcm':False, 'crt':False, 'cpt':False,'rbpt':False, 'rbpt2':False}\n",
    "                thetas = np.linspace(0,6,npar)\n",
    "                gamma = 0\n",
    "                for theta in thetas:\n",
    "                    # Running\n",
    "                    pool = mp.Pool(cpu)\n",
    "                    out = pool.starmap(exp1, [(it, theta, gamma, c, a, b, skew, m, n, p, loss, alpha, B, tests) for it in range(iterations)])\n",
    "                    pool.close()\n",
    "                    out = np.array(out).mean(axis=0)\n",
    "\n",
    "                    # Storing results\n",
    "                    results['set'].append('type1_2')\n",
    "                    results['p'].append(p)\n",
    "                    results['ba'].append(count); results['c'].append(c); results['theta'].append(theta); results['skew'].append(skew); results['gamma'].append(gamma); results['loss'].append(loss) \n",
    "                    results['stfr'].append(out[0]); results['resit'].append(out[1]); results['gcm'].append(out[2]); results['crt'].append(out[3]); results['cpt'].append(out[4]); results['rbpt'].append(out[5]); results['rbpt2'].append(out[6])\n",
    "\n",
    "\n",
    "                #### Power ####\n",
    "                tests={'stfr':False, 'resit':False, 'gcm':False, 'crt':False, 'cpt':True,'rbpt':True, 'rbpt2':True}\n",
    "                cs = np.linspace(0,.5,npar)\n",
    "                theta = 0\n",
    "                gamma = 0\n",
    "                for c in cs:\n",
    "                    # Running\n",
    "                    pool = mp.Pool(cpu)\n",
    "                    out = pool.starmap(exp1, [(it, theta, gamma, c, a, b, skew, m, n, p, loss, alpha, B, tests) for it in range(iterations)])\n",
    "                    pool.close()\n",
    "                    out = np.array(out).mean(axis=0)\n",
    "\n",
    "                    # Storing results\n",
    "                    results['set'].append('power')\n",
    "                    results['p'].append(p)\n",
    "                    results['ba'].append(count); results['c'].append(c); results['theta'].append(theta); results['skew'].append(skew); results['gamma'].append(gamma); results['loss'].append(loss) \n",
    "                    results['stfr'].append(out[0]); results['resit'].append(out[1]); results['gcm'].append(out[2]); results['crt'].append(out[3]); results['cpt'].append(out[4]); results['rbpt'].append(out[5]); results['rbpt2'].append(out[6])\n",
    "\n",
    "        # Update 'count'\n",
    "        count+=1"
   ]
  },
  {
   "cell_type": "markdown",
   "id": "3266093a",
   "metadata": {},
   "source": [
    "## Saving results"
   ]
  },
  {
   "cell_type": "code",
   "execution_count": 21,
   "id": "bf6f6c4e",
   "metadata": {},
   "outputs": [],
   "source": [
    "results = pd.DataFrame(results)\n",
    "#results.to_csv('rebut_results/2rebut_artificial_data_experiments_skew{:}.csv'.format(skew))"
   ]
  },
  {
   "cell_type": "code",
   "execution_count": 22,
   "id": "212259b8",
   "metadata": {},
   "outputs": [
    {
     "name": "stdout",
     "output_type": "stream",
     "text": [
      "\n",
      "************ 75 ************\n"
     ]
    },
    {
     "data": {
      "image/png": "[encoded data removed]",
      "text/plain": [
       "<Figure size 518.4x144 with 2 Axes>"
      ]
     },
     "metadata": {
      "needs_background": "light"
     },
     "output_type": "display_data"
    },
    {
     "data": {
      "image/png": "[encoded data removed]",
      "text/plain": [
       "<Figure size 324x144 with 1 Axes>"
      ]
     },
     "metadata": {
      "needs_background": "light"
     },
     "output_type": "display_data"
    }
   ],
   "source": [
    "for p in ps:\n",
    "    results_p = results.loc[results.p==p]\n",
    "    for skew in skews:\n",
    "        for loss in losses:\n",
    "            print(\"\\n************ {:} ************\".format(p))\n",
    "            ###\n",
    "            plt.figure(figsize=(.9*8,1*2))\n",
    "            plt.subplots_adjust(left, bottom, right, top, wspace, hspace)\n",
    "            plt.subplot(1, 2, 1)\n",
    "            plot_type1(results_p, sett='type1_1', skew=skew, loss=loss, alpha=alpha, xlabel='$\\gamma$', ylabel='Type-1 error', legend=True)\n",
    "            plt.subplot(1, 2, 2)\n",
    "            plot_type1(results_p, sett='type1_2', skew=skew, loss=loss, alpha=alpha, xlabel='$\\\\theta$', ylabel='Type-1 error', legend=True)\n",
    "            plt.savefig('rebut_plots/2exp1_type1_{:}_{:}_{:}.png'.format(str(p),str(skew),loss), bbox_inches='tight', dpi=300, transparent=True)\n",
    "            plt.show()\n",
    "\n",
    "            ###\n",
    "            plt.figure(figsize=(.9*5,1*2))\n",
    "            plt.subplots_adjust(left, bottom, right, top, wspace, hspace)\n",
    "            plt.subplot(1, 1, 1)\n",
    "            plot_power(results_p, skew=skew, loss=loss, alpha=alpha, xlabel='$c$', ylabel='Power', legend=True)\n",
    "            plt.savefig('rebut_plots/2exp1_power_{:}_{:}_{:}.png'.format(str(p),str(skew),loss), bbox_inches='tight', dpi=300, transparent=True)\n",
    "            plt.show()"
   ]
  },
  {
   "cell_type": "code",
   "execution_count": 7,
   "id": "6423e08d",
   "metadata": {},
   "outputs": [
    {
     "name": "stdout",
     "output_type": "stream",
     "text": [
      "\n",
      "************ 100 ************\n"
     ]
    },
    {
     "data": {
      "image/png": "[encoded data removed]",
      "text/plain": [
       "<Figure size 518.4x144 with 2 Axes>"
      ]
     },
     "metadata": {
      "needs_background": "light"
     },
     "output_type": "display_data"
    },
    {
     "data": {
      "image/png": "[encoded data removed]",
      "text/plain": [
       "<Figure size 324x144 with 1 Axes>"
      ]
     },
     "metadata": {
      "needs_background": "light"
     },
     "output_type": "display_data"
    }
   ],
   "source": [
    "for p in ps:\n",
    "    results_p = results.loc[results.p==p]\n",
    "    for skew in skews:\n",
    "        for loss in losses:\n",
    "            print(\"\\n************ {:} ************\".format(p))\n",
    "            ###\n",
    "            plt.figure(figsize=(.9*8,1*2))\n",
    "            plt.subplots_adjust(left, bottom, right, top, wspace, hspace)\n",
    "            plt.subplot(1, 2, 1)\n",
    "            plot_type1(results_p, sett='type1_1', skew=skew, loss=loss, alpha=alpha, xlabel='$\\gamma$', ylabel='Type-1 error', legend=True)\n",
    "            plt.subplot(1, 2, 2)\n",
    "            plot_type1(results_p, sett='type1_2', skew=skew, loss=loss, alpha=alpha, xlabel='$\\\\theta$', ylabel='Type-1 error', legend=True)\n",
    "            plt.savefig('rebut_plots/2exp1_type1_{:}_{:}_{:}.png'.format(str(p),str(skew),loss), bbox_inches='tight', dpi=300, transparent=True)\n",
    "            plt.show()\n",
    "\n",
    "            ###\n",
    "            plt.figure(figsize=(.9*5,1*2))\n",
    "            plt.subplots_adjust(left, bottom, right, top, wspace, hspace)\n",
    "            plt.subplot(1, 1, 1)\n",
    "            plot_power(results_p, skew=skew, loss=loss, alpha=alpha, xlabel='$c$', ylabel='Power', legend=True)\n",
    "            plt.savefig('rebut_plots/2exp1_power_{:}_{:}_{:}.png'.format(str(p),str(skew),loss), bbox_inches='tight', dpi=300, transparent=True)\n",
    "            plt.show()"
   ]
  },
  {
   "cell_type": "code",
   "execution_count": null,
   "id": "f86d60da",
   "metadata": {},
   "outputs": [],
   "source": []
  },
  {
   "cell_type": "code",
   "execution_count": null,
   "id": "0ad63252",
   "metadata": {},
   "outputs": [],
   "source": []
  },
  {
   "cell_type": "code",
   "execution_count": null,
   "id": "98811c63",
   "metadata": {},
   "outputs": [],
   "source": []
  },
  {
   "cell_type": "code",
   "execution_count": null,
   "id": "4561a98a",
   "metadata": {},
   "outputs": [],
   "source": []
  },
  {
   "cell_type": "code",
   "execution_count": null,
   "id": "0619b274",
   "metadata": {},
   "outputs": [],
   "source": []
  },
  {
   "cell_type": "code",
   "execution_count": 8,
   "id": "7ecfe597",
   "metadata": {},
   "outputs": [],
   "source": [
    "p=10\n",
    "results_p = results.loc[results.p==p]\n",
    "columns_by = ['set','c','theta','skew','gamma','loss']\n",
    "results_mean = results_p.groupby(by=columns_by).mean().reset_index()\n",
    "results_std = results_p.groupby(by=columns_by).std().reset_index()\n",
    "\n",
    "ind_row = (results_mean.set=='power')"
   ]
  },
  {
   "cell_type": "code",
   "execution_count": 9,
   "id": "506a08c7",
   "metadata": {},
   "outputs": [
    {
     "data": {
      "text/html": [
       "<div>\n",
       "<style scoped>\n",
       "    .dataframe tbody tr th:only-of-type {\n",
       "        vertical-align: middle;\n",
       "    }\n",
       "\n",
       "    .dataframe tbody tr th {\n",
       "        vertical-align: top;\n",
       "    }\n",
       "\n",
       "    .dataframe thead th {\n",
       "        text-align: right;\n",
       "    }\n",
       "</style>\n",
       "<table border=\"1\" class=\"dataframe\">\n",
       "  <thead>\n",
       "    <tr style=\"text-align: right;\">\n",
       "      <th></th>\n",
       "      <th>set</th>\n",
       "      <th>p</th>\n",
       "      <th>ba</th>\n",
       "      <th>c</th>\n",
       "      <th>theta</th>\n",
       "      <th>skew</th>\n",
       "      <th>gamma</th>\n",
       "      <th>loss</th>\n",
       "      <th>stfr</th>\n",
       "      <th>resit</th>\n",
       "      <th>gcm</th>\n",
       "      <th>crt</th>\n",
       "      <th>cpt</th>\n",
       "      <th>rbpt</th>\n",
       "      <th>rbpt2</th>\n",
       "    </tr>\n",
       "  </thead>\n",
       "  <tbody>\n",
       "  </tbody>\n",
       "</table>\n",
       "</div>"
      ],
      "text/plain": [
       "Empty DataFrame\n",
       "Columns: [set, p, ba, c, theta, skew, gamma, loss, stfr, resit, gcm, crt, cpt, rbpt, rbpt2]\n",
       "Index: []"
      ]
     },
     "execution_count": 9,
     "metadata": {},
     "output_type": "execute_result"
    }
   ],
   "source": [
    "results_p"
   ]
  },
  {
   "cell_type": "code",
   "execution_count": 10,
   "id": "df7f76f2",
   "metadata": {},
   "outputs": [
    {
     "data": {
      "text/html": [
       "<div>\n",
       "<style scoped>\n",
       "    .dataframe tbody tr th:only-of-type {\n",
       "        vertical-align: middle;\n",
       "    }\n",
       "\n",
       "    .dataframe tbody tr th {\n",
       "        vertical-align: top;\n",
       "    }\n",
       "\n",
       "    .dataframe thead th {\n",
       "        text-align: right;\n",
       "    }\n",
       "</style>\n",
       "<table border=\"1\" class=\"dataframe\">\n",
       "  <thead>\n",
       "    <tr style=\"text-align: right;\">\n",
       "      <th></th>\n",
       "    </tr>\n",
       "  </thead>\n",
       "  <tbody>\n",
       "    <tr>\n",
       "      <th>set</th>\n",
       "    </tr>\n",
       "    <tr>\n",
       "      <th>c</th>\n",
       "    </tr>\n",
       "    <tr>\n",
       "      <th>theta</th>\n",
       "    </tr>\n",
       "    <tr>\n",
       "      <th>skew</th>\n",
       "    </tr>\n",
       "    <tr>\n",
       "      <th>gamma</th>\n",
       "    </tr>\n",
       "    <tr>\n",
       "      <th>loss</th>\n",
       "    </tr>\n",
       "    <tr>\n",
       "      <th>p</th>\n",
       "    </tr>\n",
       "    <tr>\n",
       "      <th>ba</th>\n",
       "    </tr>\n",
       "    <tr>\n",
       "      <th>stfr</th>\n",
       "    </tr>\n",
       "    <tr>\n",
       "      <th>resit</th>\n",
       "    </tr>\n",
       "    <tr>\n",
       "      <th>gcm</th>\n",
       "    </tr>\n",
       "    <tr>\n",
       "      <th>crt</th>\n",
       "    </tr>\n",
       "    <tr>\n",
       "      <th>cpt</th>\n",
       "    </tr>\n",
       "    <tr>\n",
       "      <th>rbpt</th>\n",
       "    </tr>\n",
       "    <tr>\n",
       "      <th>rbpt2</th>\n",
       "    </tr>\n",
       "  </tbody>\n",
       "</table>\n",
       "</div>"
      ],
      "text/plain": [
       "Empty DataFrame\n",
       "Columns: []\n",
       "Index: [set, c, theta, skew, gamma, loss, p, ba, stfr, resit, gcm, crt, cpt, rbpt, rbpt2]"
      ]
     },
     "execution_count": 10,
     "metadata": {},
     "output_type": "execute_result"
    }
   ],
   "source": [
    "results_mean.loc[ind_row].iloc[:,:].T"
   ]
  },
  {
   "cell_type": "code",
   "execution_count": 11,
   "id": "bdeeb34d",
   "metadata": {},
   "outputs": [
    {
     "data": {
      "text/html": [
       "<div>\n",
       "<style scoped>\n",
       "    .dataframe tbody tr th:only-of-type {\n",
       "        vertical-align: middle;\n",
       "    }\n",
       "\n",
       "    .dataframe tbody tr th {\n",
       "        vertical-align: top;\n",
       "    }\n",
       "\n",
       "    .dataframe thead th {\n",
       "        text-align: right;\n",
       "    }\n",
       "</style>\n",
       "<table border=\"1\" class=\"dataframe\">\n",
       "  <thead>\n",
       "    <tr style=\"text-align: right;\">\n",
       "      <th></th>\n",
       "    </tr>\n",
       "  </thead>\n",
       "  <tbody>\n",
       "    <tr>\n",
       "      <th>gamma</th>\n",
       "    </tr>\n",
       "    <tr>\n",
       "      <th>loss</th>\n",
       "    </tr>\n",
       "    <tr>\n",
       "      <th>p</th>\n",
       "    </tr>\n",
       "    <tr>\n",
       "      <th>ba</th>\n",
       "    </tr>\n",
       "    <tr>\n",
       "      <th>stfr</th>\n",
       "    </tr>\n",
       "    <tr>\n",
       "      <th>resit</th>\n",
       "    </tr>\n",
       "    <tr>\n",
       "      <th>gcm</th>\n",
       "    </tr>\n",
       "    <tr>\n",
       "      <th>crt</th>\n",
       "    </tr>\n",
       "    <tr>\n",
       "      <th>cpt</th>\n",
       "    </tr>\n",
       "    <tr>\n",
       "      <th>rbpt</th>\n",
       "    </tr>\n",
       "    <tr>\n",
       "      <th>rbpt2</th>\n",
       "    </tr>\n",
       "  </tbody>\n",
       "</table>\n",
       "</div>"
      ],
      "text/plain": [
       "Empty DataFrame\n",
       "Columns: []\n",
       "Index: [gamma, loss, p, ba, stfr, resit, gcm, crt, cpt, rbpt, rbpt2]"
      ]
     },
     "execution_count": 11,
     "metadata": {},
     "output_type": "execute_result"
    }
   ],
   "source": [
    "results_std.loc[ind_row].iloc[:,4:].T"
   ]
  },
  {
   "cell_type": "code",
   "execution_count": null,
   "id": "1045e4da",
   "metadata": {},
   "outputs": [],
   "source": []
  },
  {
   "cell_type": "code",
   "execution_count": null,
   "id": "5a064e48",
   "metadata": {},
   "outputs": [],
   "source": []
  }
 ],
 "metadata": {
  "kernelspec": {
   "display_name": "Python 3 (ipykernel)",
   "language": "python",
   "name": "python3"
  },
  "language_info": {
   "codemirror_mode": {
    "name": "ipython",
    "version": 3
   },
   "file_extension": ".py",
   "mimetype": "text/x-python",
   "name": "python",
   "nbconvert_exporter": "python",
   "pygments_lexer": "ipython3",
   "version": "3.7.13"
  }
 },
 "nbformat": 4,
 "nbformat_minor": 5
}
