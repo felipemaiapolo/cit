{
 "cells": [
  {
   "cell_type": "markdown",
   "id": "a07a8d48",
   "metadata": {},
   "source": [
    "# Setting things up"
   ]
  },
  {
   "cell_type": "code",
   "execution_count": 1,
   "id": "861d6c6c",
   "metadata": {},
   "outputs": [
    {
     "data": {
      "text/plain": [
       "8"
      ]
     },
     "execution_count": 1,
     "metadata": {},
     "output_type": "execute_result"
    }
   ],
   "source": [
    "from general import *\n",
    "from exp1 import *\n",
    "import time\n",
    "import pandas as pd\n",
    "import multiprocessing as mp\n",
    "\n",
    "random_state=42\n",
    "np.random.seed(random_state)\n",
    "cpu=mp.cpu_count() \n",
    "cpu"
   ]
  },
  {
   "cell_type": "code",
   "execution_count": 2,
   "id": "cad2ab90",
   "metadata": {},
   "outputs": [],
   "source": [
    "####\n",
    "alpha=.05 #Significance level\n",
    "iterations=1 #MC simulations to calculate type-1 error and power\n",
    "p=20 #Z dim\n",
    "m=400 #Training set size\n",
    "n=100 #Test set size\n",
    "B=100 #Number of permutations/samplings (RESIT,CRT,CPT)\n",
    "npar = 7 #Number of different values for parameters like gamma, theta, c etc.\n",
    "nbas = 30 #Number of different generative configurations (different pairs (a,b))\n",
    "\n",
    "####\n",
    "iterations2=50\n",
    "#bas = [[np.random.normal(0, 1, p).reshape(p,1), np.random.normal(0, 1, p).reshape(p,1)] for j in range(nbas)]\n",
    "skews = [10]\n",
    "losses = ['mse']"
   ]
  },
  {
   "cell_type": "markdown",
   "id": "42b311e0",
   "metadata": {},
   "source": [
    "# Experiments"
   ]
  },
  {
   "cell_type": "code",
   "execution_count": 3,
   "id": "60e70946",
   "metadata": {},
   "outputs": [],
   "source": [
    "results = {'set':[], \n",
    "           'ba':[], 'c':[], 'theta':[], 'skew':[], 'gamma':[], 'loss':[],\n",
    "           'stfr':[], 'resit':[], 'gcm':[], 'crt':[], 'cpt':[],'rbpt':[], 'rbpt2':[]}"
   ]
  },
  {
   "cell_type": "code",
   "execution_count": 4,
   "id": "cf774c4f",
   "metadata": {},
   "outputs": [],
   "source": [
    "def exp1(it, theta, gamma, c, a, b, skew, m, n, p, loss, alpha, B, \n",
    "         tests={'stfr':True, 'resit':True, 'gcm':True, 'crt':True, 'cpt':True,'rbpt':True, 'rbpt2':True}):\n",
    "    \n",
    "    #Gen. training data\n",
    "    Z_train=np.load('/Users/maiapolo/Desktop/research/cdt/data2/Z_train_{:}_{:}.npy'.format(theta,it))\n",
    "    X_train=np.load('/Users/maiapolo/Desktop/research/cdt/data2/X_train_{:}_{:}.npy'.format(theta,it))\n",
    "    Y_train=np.load('/Users/maiapolo/Desktop/research/cdt/data2/Y_train_{:}_{:}.npy'.format(theta,it))\n",
    "\n",
    "    #Gen. test data\n",
    "    Z_test=np.load('/Users/maiapolo/Desktop/research/cdt/data2/Z_test_{:}_{:}.npy'.format(theta,it))\n",
    "    X_test=np.load('/Users/maiapolo/Desktop/research/cdt/data2/X_test_{:}_{:}.npy'.format(theta,it))\n",
    "    Y_test=np.load('/Users/maiapolo/Desktop/research/cdt/data2/Y_test_{:}_{:}.npy'.format(theta,it))\n",
    "            \n",
    "    #Fitting models\n",
    "    g1 = g()\n",
    "    g1.fit(X_train, Z_train, Y_train)\n",
    "    g2 = g()\n",
    "    g2.fit(None, Z_train, Y_train)\n",
    "    g3 = g()\n",
    "    g3.fit(None, Z_train, X_train)\n",
    "                \n",
    "    #STFR\n",
    "    if tests['stfr']: reject_stfr = (get_pval_stfr(X_test, Z_test, Y_test, g1, g2, loss=loss) <= alpha)\n",
    "    else: reject_stfr = np.nan\n",
    "        \n",
    "    #RESIT\n",
    "    if tests['resit']: reject_resit = (get_pval_resit(X_test, Z_test, Y_test, g2, g3, B=B) <= alpha)\n",
    "    else: reject_resit = np.nan\n",
    "        \n",
    "    #GCM  \n",
    "    if tests['gcm']: reject_gcm = (get_pval_gcm(X_test, Z_test, Y_test, g2, g3) <= alpha)\n",
    "    else: reject_gcm = np.nan\n",
    "        \n",
    "    #CRT\n",
    "    if tests['crt']: reject_crt = get_pval_crt(X_test, Z_test, Y_test, b, g1, g2, theta, B, loss=loss)<= alpha\n",
    "    else: reject_crt = np.nan   \n",
    "        \n",
    "    #CPT\n",
    "    if tests['cpt']: reject_cpt = get_pval_cpt(X_test, Z_test, Y_test, b, g1, g2, theta, B, loss=loss) <= alpha\n",
    "    else: reject_cpt = np.nan\n",
    "        \n",
    "    #RBPT\n",
    "    if tests['rbpt']: reject_rbpt = get_pval_rbpt(X_test, Z_test, Y_test, b, g1, theta, loss=loss) <= alpha\n",
    "    else: reject_rbpt = np.nan\n",
    "        \n",
    "    #RBPT2\n",
    "    if tests['rbpt2']: \n",
    "        h = GridSearchCV(KernelRidge(kernel='poly'), cv=2, n_jobs=1,\n",
    "                      param_grid={\"alpha\": [1e0, 0.1, 1e-2, 1e-3],\n",
    "                                  \"degree\": [2]})\n",
    "        h.fit(Z_train, g1.predict(X_train,Z_train).squeeze())\n",
    "        reject_rbpt2 = get_pval_rbpt2(X_test, Z_test, Y_test, g1, h, loss=loss)  <= alpha\n",
    "    else: reject_rbpt2 = np.nan\n",
    "        \n",
    "    #Output\n",
    "    return [reject_stfr, reject_resit, reject_gcm, reject_crt, reject_cpt, reject_rbpt, reject_rbpt2] \n"
   ]
  },
  {
   "cell_type": "code",
   "execution_count": null,
   "id": "c7ce9420",
   "metadata": {},
   "outputs": [
    {
     "name": "stderr",
     "output_type": "stream",
     "text": [
      " 60%|██████    | 30/50 [00:57<00:38,  1.92s/it]"
     ]
    }
   ],
   "source": [
    "count=0\n",
    "it=0\n",
    "for it2 in tqdm(range(iterations2)):\n",
    "    for skew in skews:\n",
    "        for loss in losses:\n",
    "        \n",
    "            #### Type I error ####\n",
    "            c = 0\n",
    "            \n",
    "            #CRT,CPT,RBPT#\n",
    "            tests={'stfr':False, 'resit':False, 'gcm':False, 'crt':True, 'cpt':True,'rbpt':True, 'rbpt2':False}\n",
    "            thetas = np.linspace(0,6,npar)\n",
    "            gamma = 0\n",
    "            for theta in thetas:\n",
    "                # Running\n",
    "                a=np.load('/Users/maiapolo/Desktop/research/cdt/data2/a_{:}_{:}.npy'.format(theta,it2))\n",
    "                b=np.load('/Users/maiapolo/Desktop/research/cdt/data2/b_{:}_{:}.npy'.format(theta,it2))\n",
    "                out = [exp1(it2, theta, gamma, c, a, b, skew, m, n, p, loss, alpha, B, tests)]\n",
    "                out = np.array(out).mean(axis=0)\n",
    "                \n",
    "                # Storing results\n",
    "                results['set'].append('type1_2')\n",
    "                results['ba'].append(count); results['c'].append(c); results['theta'].append(theta); results['skew'].append(skew); results['gamma'].append(gamma); results['loss'].append(loss) \n",
    "                results['stfr'].append(out[0]); results['resit'].append(out[1]); results['gcm'].append(out[2]); results['crt'].append(out[3]); results['cpt'].append(out[4]); results['rbpt'].append(out[5]); results['rbpt2'].append(out[6])\n",
    "        \n",
    "        \n",
    "           \n",
    "    count+=1"
   ]
  },
  {
   "cell_type": "code",
   "execution_count": null,
   "id": "8181088d",
   "metadata": {},
   "outputs": [],
   "source": [
    "results = pd.DataFrame(results)\n",
    "results"
   ]
  },
  {
   "cell_type": "markdown",
   "id": "3266093a",
   "metadata": {},
   "source": [
    "## Saving results"
   ]
  },
  {
   "cell_type": "code",
   "execution_count": 12,
   "id": "f3158e84",
   "metadata": {},
   "outputs": [
    {
     "data": {
      "text/plain": [
       "array([0.        , 0.08333333, 0.16666667, 0.25      , 0.33333333,\n",
       "       0.41666667, 0.5       ])"
      ]
     },
     "execution_count": 12,
     "metadata": {},
     "output_type": "execute_result"
    }
   ],
   "source": [
    "plt.figure(figsize=(.9*8,1*2))\n",
    "plt.subplots_adjust(left, bottom, right, top, wspace, hspace)\n",
    "plt.subplot(1, 2, 1)\n",
    "        plot_type1(results, sett='type1_1', skew=skew, loss=loss, alpha=alpha, xlabel='$\\gamma$', ylabel='Type-1 error', legend=True)\n",
    "        plt.subplot(1, 2, 2)\n",
    "        plot_type1(results, sett='type1_2', skew=skew, loss=loss, alpha=alpha, xlabel='$\\\\theta$', ylabel='Type-1 error', legend=True)\n",
    "        plt.savefig('plots/exp1_type1_{:}_{:}.png'.format(str(skew),loss), bbox_inches='tight', dpi=300, transparent=True)\n",
    "        plt.show()"
   ]
  },
  {
   "cell_type": "code",
   "execution_count": 13,
   "id": "bf6f6c4e",
   "metadata": {},
   "outputs": [],
   "source": [
    "\n",
    "#results.to_csv('results/artificial_data_experiments.csv')"
   ]
  },
  {
   "cell_type": "code",
   "execution_count": 14,
   "id": "e5e329e2",
   "metadata": {},
   "outputs": [
    {
     "data": {
      "image/png": "[encoded data removed]",
      "text/plain": [
       "<Figure size 324x144 with 1 Axes>"
      ]
     },
     "metadata": {
      "needs_background": "light"
     },
     "output_type": "display_data"
    }
   ],
   "source": [
    "for skew in skews:\n",
    "    for loss in losses:\n",
    "\n",
    "        ###\n",
    "        plt.figure(figsize=(.9*5,1*2))\n",
    "        plt.subplots_adjust(left, bottom, right, top, wspace, hspace)\n",
    "        plt.subplot(1, 1, 1)\n",
    "        plot_power(results, skew=skew, loss=loss, alpha=alpha, xlabel='$c$', ylabel='Power', legend=True)\n",
    "        #plt.savefig('plots/exp1_power_{:}_{:}.png'.format(str(skew),loss), bbox_inches='tight', dpi=300, transparent=True)\n",
    "        plt.show()"
   ]
  },
  {
   "cell_type": "code",
   "execution_count": null,
   "id": "04ca5915",
   "metadata": {},
   "outputs": [],
   "source": []
  }
 ],
 "metadata": {
  "kernelspec": {
   "display_name": "Python 3 (ipykernel)",
   "language": "python",
   "name": "python3"
  },
  "language_info": {
   "codemirror_mode": {
    "name": "ipython",
    "version": 3
   },
   "file_extension": ".py",
   "mimetype": "text/x-python",
   "name": "python",
   "nbconvert_exporter": "python",
   "pygments_lexer": "ipython3",
   "version": "3.7.13"
  }
 },
 "nbformat": 4,
 "nbformat_minor": 5
}
