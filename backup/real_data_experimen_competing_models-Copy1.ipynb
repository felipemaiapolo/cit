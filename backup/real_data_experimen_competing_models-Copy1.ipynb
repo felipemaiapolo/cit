{
 "cells": [
  {
   "cell_type": "code",
   "execution_count": 1,
   "id": "0ed45685",
   "metadata": {},
   "outputs": [],
   "source": [
    "from general import *\n",
    "from exp1 import *\n",
    "from exp2 import *\n",
    "import time\n",
    "import copy\n",
    "\n",
    "random_state=42\n",
    "np.random.seed(random_state)"
   ]
  },
  {
   "cell_type": "markdown",
   "id": "5a944a2d",
   "metadata": {},
   "source": [
    "## Experiment "
   ]
  },
  {
   "cell_type": "code",
   "execution_count": 2,
   "id": "8e1bf91b",
   "metadata": {},
   "outputs": [],
   "source": [
    "def find_nearest(array, value):\n",
    "    array = np.asarray(array)\n",
    "    idx = (np.abs(array - value)).argmin()\n",
    "    return array[idx]"
   ]
  },
  {
   "cell_type": "code",
   "execution_count": 3,
   "id": "4a976955",
   "metadata": {},
   "outputs": [],
   "source": [
    "states=['ca','il','mo','tx']\n",
    "labels = ['California','Illinois','Missouri','Texas']\n",
    "alpha=.05\n",
    "loss='mae'\n",
    "colors=['#EB9846', '#12B8EB', '#773BEB', '#2F58EB', '#808080']\n",
    "B=100\n",
    "n_vals=20"
   ]
  },
  {
   "cell_type": "code",
   "execution_count": 12,
   "id": "49369838",
   "metadata": {},
   "outputs": [
    {
     "data": {
      "text/html": [
       "<div>\n",
       "<style scoped>\n",
       "    .dataframe tbody tr th:only-of-type {\n",
       "        vertical-align: middle;\n",
       "    }\n",
       "\n",
       "    .dataframe tbody tr th {\n",
       "        vertical-align: top;\n",
       "    }\n",
       "\n",
       "    .dataframe thead th {\n",
       "        text-align: right;\n",
       "    }\n",
       "</style>\n",
       "<table border=\"1\" class=\"dataframe\">\n",
       "  <thead>\n",
       "    <tr style=\"text-align: right;\">\n",
       "      <th></th>\n",
       "      <th>zipcode</th>\n",
       "      <th>minority</th>\n",
       "      <th>companies_name</th>\n",
       "      <th>name</th>\n",
       "      <th>bi_policy_premium</th>\n",
       "      <th>pd_policy_premium</th>\n",
       "      <th>state_risk</th>\n",
       "      <th>white_non_hisp_pct</th>\n",
       "      <th>risk_difference</th>\n",
       "      <th>combined_premium</th>\n",
       "    </tr>\n",
       "  </thead>\n",
       "  <tbody>\n",
       "    <tr>\n",
       "      <th>0</th>\n",
       "      <td>63005</td>\n",
       "      <td>False</td>\n",
       "      <td>21st Century Centennial Ins Co</td>\n",
       "      <td>FARMERS INS GRP</td>\n",
       "      <td>321</td>\n",
       "      <td>211.0</td>\n",
       "      <td>216.029693</td>\n",
       "      <td>87.9</td>\n",
       "      <td>315.970307</td>\n",
       "      <td>532.0</td>\n",
       "    </tr>\n",
       "    <tr>\n",
       "      <th>1</th>\n",
       "      <td>63010</td>\n",
       "      <td>False</td>\n",
       "      <td>21st Century Centennial Ins Co</td>\n",
       "      <td>FARMERS INS GRP</td>\n",
       "      <td>342</td>\n",
       "      <td>192.0</td>\n",
       "      <td>251.359806</td>\n",
       "      <td>93.9</td>\n",
       "      <td>282.640194</td>\n",
       "      <td>534.0</td>\n",
       "    </tr>\n",
       "    <tr>\n",
       "      <th>2</th>\n",
       "      <td>63011</td>\n",
       "      <td>False</td>\n",
       "      <td>21st Century Centennial Ins Co</td>\n",
       "      <td>FARMERS INS GRP</td>\n",
       "      <td>321</td>\n",
       "      <td>211.0</td>\n",
       "      <td>225.421778</td>\n",
       "      <td>88.9</td>\n",
       "      <td>306.578222</td>\n",
       "      <td>532.0</td>\n",
       "    </tr>\n",
       "    <tr>\n",
       "      <th>3</th>\n",
       "      <td>63012</td>\n",
       "      <td>False</td>\n",
       "      <td>21st Century Centennial Ins Co</td>\n",
       "      <td>FARMERS INS GRP</td>\n",
       "      <td>342</td>\n",
       "      <td>192.0</td>\n",
       "      <td>210.286312</td>\n",
       "      <td>97.2</td>\n",
       "      <td>323.713688</td>\n",
       "      <td>534.0</td>\n",
       "    </tr>\n",
       "    <tr>\n",
       "      <th>4</th>\n",
       "      <td>63013</td>\n",
       "      <td>False</td>\n",
       "      <td>21st Century Centennial Ins Co</td>\n",
       "      <td>FARMERS INS GRP</td>\n",
       "      <td>317</td>\n",
       "      <td>141.0</td>\n",
       "      <td>158.592140</td>\n",
       "      <td>100.0</td>\n",
       "      <td>299.407860</td>\n",
       "      <td>458.0</td>\n",
       "    </tr>\n",
       "  </tbody>\n",
       "</table>\n",
       "</div>"
      ],
      "text/plain": [
       "   zipcode  minority                  companies_name             name  \\\n",
       "0    63005     False  21st Century Centennial Ins Co  FARMERS INS GRP   \n",
       "1    63010     False  21st Century Centennial Ins Co  FARMERS INS GRP   \n",
       "2    63011     False  21st Century Centennial Ins Co  FARMERS INS GRP   \n",
       "3    63012     False  21st Century Centennial Ins Co  FARMERS INS GRP   \n",
       "4    63013     False  21st Century Centennial Ins Co  FARMERS INS GRP   \n",
       "\n",
       "   bi_policy_premium  pd_policy_premium  state_risk  white_non_hisp_pct  \\\n",
       "0                321              211.0  216.029693                87.9   \n",
       "1                342              192.0  251.359806                93.9   \n",
       "2                321              211.0  225.421778                88.9   \n",
       "3                342              192.0  210.286312                97.2   \n",
       "4                317              141.0  158.592140               100.0   \n",
       "\n",
       "   risk_difference  combined_premium  \n",
       "0       315.970307             532.0  \n",
       "1       282.640194             534.0  \n",
       "2       306.578222             532.0  \n",
       "3       323.713688             534.0  \n",
       "4       299.407860             458.0  "
      ]
     },
     "execution_count": 12,
     "metadata": {},
     "output_type": "execute_result"
    }
   ],
   "source": [
    "data = pd.read_csv('data/car-insurance-public/data/mo-per-zip.csv')\n",
    "data.head()"
   ]
  },
  {
   "cell_type": "code",
   "execution_count": null,
   "id": "0f319b4d",
   "metadata": {},
   "outputs": [],
   "source": []
  },
  {
   "cell_type": "code",
   "execution_count": 13,
   "id": "0b5870c5",
   "metadata": {},
   "outputs": [
    {
     "name": "stderr",
     "output_type": "stream",
     "text": [
      "\r",
      "  0%|                                                     | 0/4 [00:00<?, ?it/s]"
     ]
    },
    {
     "name": "stdout",
     "output_type": "stream",
     "text": [
      "66 56\n"
     ]
    },
    {
     "name": "stderr",
     "output_type": "stream",
     "text": [
      "\r",
      " 25%|███████████▎                                 | 1/4 [00:03<00:09,  3.05s/it]"
     ]
    },
    {
     "name": "stdout",
     "output_type": "stream",
     "text": [
      "85 82\n"
     ]
    },
    {
     "name": "stderr",
     "output_type": "stream",
     "text": [
      "\r",
      " 50%|██████████████████████▌                      | 2/4 [00:05<00:05,  2.93s/it]"
     ]
    },
    {
     "name": "stdout",
     "output_type": "stream",
     "text": [
      "28 22\n"
     ]
    },
    {
     "name": "stderr",
     "output_type": "stream",
     "text": [
      "\r",
      " 75%|█████████████████████████████████▊           | 3/4 [00:07<00:02,  2.53s/it]"
     ]
    },
    {
     "name": "stdout",
     "output_type": "stream",
     "text": [
      "184 176\n"
     ]
    },
    {
     "name": "stderr",
     "output_type": "stream",
     "text": [
      "100%|█████████████████████████████████████████████| 4/4 [00:10<00:00,  2.66s/it]\n"
     ]
    }
   ],
   "source": [
    "pvals=[]\n",
    "times=[]\n",
    "\n",
    "for s in tqdm(states):\n",
    "    data = pd.read_csv('data/car-insurance-public/data/' + s + '-per-zip.csv')\n",
    "\n",
    "    Z = np.array(data.state_risk).reshape((-1,1))\n",
    "    Y = np.array(data.combined_premium).reshape((-1,1))\n",
    "    X = (1*np.array(data.minority)).reshape((-1,1))\n",
    "    \n",
    "    bins = np.linspace(np.min(Z),np.max(Z),n_vals+2)\n",
    "    #bins = np.percentile(Z, np.linspace(0,100,n_vals+2))\n",
    "    bins = bins[1:-1]\n",
    "    Y_ci = copy.deepcopy(Y)\n",
    "    Z_bin = np.array([find_nearest(bins, z) for z in Z.squeeze()]).reshape(Z.shape)\n",
    "    \n",
    "    for val in np.unique(Z_bin):\n",
    "        ind = Z_bin==val\n",
    "        ind2 = np.random.choice(np.sum(ind),np.sum(ind),replace=False)\n",
    "        Y_ci[ind] = Y_ci[ind][ind2]\n",
    "\n",
    "    X_train, X_test, Y_train, Y_test, Z_train, Z_test = train_test_split(X, Y_ci, Z_bin, test_size=.5, random_state=random_state)\n",
    "\n",
    "    print(np.min([np.sum(Z_train.squeeze()==val) for val in np.unique(Z_train)]),\n",
    "          np.min([np.sum(Z_test.squeeze()==val) for val in np.unique(Z_test)]))\n",
    "    \n",
    "    ###Fitting models\n",
    "    g1 = g()\n",
    "    g1.fit(X_train, Z_train, Y_train)\n",
    "    g2 = g()\n",
    "    g2.fit(None, Z_train, Y_train)\n",
    "    g3 = g()\n",
    "    g3.fit(None, Z_train, X_train)\n",
    "    \n",
    "    ###RBPT\n",
    "    start_time = time.time()\n",
    "    p = LogisticRegression().fit(Z_train, X_train.squeeze())\n",
    "    H_test = np.sum(p.predict_proba(Z_test)*np.hstack((g1.predict(np.zeros(X_test.shape),Z_test).reshape(-1,1),\n",
    "                                                       g1.predict(np.ones(X_test.shape),Z_test).reshape(-1,1))), axis=1).reshape(-1,1)\n",
    "    pval_rbpt = get_pval_rbpt(X_test, Z_test, Y_test, H_test, g1, loss=loss)\n",
    "    time_rbpt = time.time() - start_time\n",
    "\n",
    "    ###RBPT2\n",
    "    start_time = time.time()\n",
    "    h = get_h(Z_train, g1.predict(X_train,Z_train).squeeze())\n",
    "    pval_rbpt2 = get_pval_rbpt2(X_test, Z_test, Y_test, g1, h, loss=loss)\n",
    "    time_rbpt2 = time.time() - start_time\n",
    "    \n",
    "    ###STFR\n",
    "    start_time = time.time()\n",
    "    pval_stfr = get_pval_stfr(X_test, Z_test, Y_test, g1, g2, loss=loss)\n",
    "    time_stfr = time.time() - start_time\n",
    "    \n",
    "    ###RESIT\n",
    "    start_time = time.time()\n",
    "    pval_resit = get_pval_resit(X_test, Z_test, Y_test, g2, g3, B=B) \n",
    "    time_resit = time.time() - start_time\n",
    "    \n",
    "    ###GCM\n",
    "    start_time = time.time()\n",
    "    pval_gcm = get_pval_gcm(X_test, Z_test, Y_test, g2, g3) \n",
    "    time_gcm = time.time() - start_time\n",
    "    \n",
    "    ###Storing\n",
    "    times.append([time_rbpt, time_rbpt2, time_stfr, time_resit, time_gcm])\n",
    "    pvals.append([pval_rbpt, pval_rbpt2, pval_stfr, pval_resit, pval_gcm])\n",
    "    \n",
    "pvals=np.array(pvals)"
   ]
  },
  {
   "cell_type": "code",
   "execution_count": 14,
   "id": "3f445c01",
   "metadata": {},
   "outputs": [
    {
     "data": {
      "text/plain": [
       "array([1.23705864e-02, 9.25857246e-01, 4.08887863e-04, 1.60168839e+00,\n",
       "       3.86059284e-04])"
      ]
     },
     "execution_count": 14,
     "metadata": {},
     "output_type": "execute_result"
    }
   ],
   "source": [
    "np.array(times).mean(axis=0)"
   ]
  },
  {
   "cell_type": "code",
   "execution_count": 15,
   "id": "f943ae68",
   "metadata": {
    "scrolled": true
   },
   "outputs": [],
   "source": [
    "pvals_rbpt = pvals[:,0]\n",
    "pvals_rbpt2 = pvals[:,1]\n",
    "pvals_stfr = pvals[:,2]\n",
    "pvals_resit = pvals[:,3]\n",
    "pvals_gcm = pvals[:,4]"
   ]
  },
  {
   "cell_type": "code",
   "execution_count": 16,
   "id": "cd2782ad",
   "metadata": {},
   "outputs": [
    {
     "data": {
      "image/png": "[encoded data removed]",
      "text/plain": [
       "<Figure size 640x480 with 1 Axes>"
      ]
     },
     "metadata": {},
     "output_type": "display_data"
    }
   ],
   "source": [
    "x = np.arange(len(labels))  # the label locations\n",
    "width = 0.3  # the width of the bars\n",
    "\n",
    "rects1 = plt.bar(x - width*2/3, pvals_rbpt, width/3, label='RBPT', color=colors[0], alpha=.9)\n",
    "rects2 = plt.bar(x - width/3, pvals_rbpt2, width/3, label='RBPT2', color=colors[1], alpha=.9)\n",
    "rects3 = plt.bar(x, pvals_stfr, width/3, label='STFR', color=colors[2], alpha=.9)\n",
    "rects4 = plt.bar(x + width/3, pvals_resit, width/3, label='RESIT', color=colors[3], alpha=.9)\n",
    "rects5 = plt.bar(x + width*2/3, pvals_gcm, width/3, label='GCM', color=colors[4], alpha=.9)\n",
    "\n",
    "# Add some text for labels, title and custom x-axis tick labels, etc.\n",
    "plt.ylabel('$p$-value', size=14)\n",
    "plt.xticks(x, labels, fontsize=13)\n",
    "plt.legend(framealpha=0.5, prop={'size': 11}) \n",
    "plt.axhline(y=alpha, color='r', linestyle='--', lw=1, alpha=.5)\n",
    "plt.yticks(fontsize=12)\n",
    "plt.ylim(0,1)\n",
    "plt.grid(alpha=.2)\n",
    "\n",
    "#plt.savefig('plots/exp2_{:}.png'.format(loss), bbox_inches='tight', dpi=300, transparent=True)\n",
    "plt.show()"
   ]
  },
  {
   "cell_type": "code",
   "execution_count": null,
   "id": "09afdc1b",
   "metadata": {},
   "outputs": [],
   "source": []
  },
  {
   "cell_type": "code",
   "execution_count": null,
   "id": "9ffbac2a",
   "metadata": {},
   "outputs": [],
   "source": []
  },
  {
   "cell_type": "code",
   "execution_count": null,
   "id": "67847a21",
   "metadata": {},
   "outputs": [],
   "source": []
  },
  {
   "cell_type": "code",
   "execution_count": null,
   "id": "bec29c9f",
   "metadata": {},
   "outputs": [],
   "source": []
  },
  {
   "cell_type": "code",
   "execution_count": null,
   "id": "2d24e6b1",
   "metadata": {},
   "outputs": [],
   "source": []
  }
 ],
 "metadata": {
  "kernelspec": {
   "display_name": "Python 3 (ipykernel)",
   "language": "python",
   "name": "python3"
  },
  "language_info": {
   "codemirror_mode": {
    "name": "ipython",
    "version": 3
   },
   "file_extension": ".py",
   "mimetype": "text/x-python",
   "name": "python",
   "nbconvert_exporter": "python",
   "pygments_lexer": "ipython3",
   "version": "3.7.13"
  }
 },
 "nbformat": 4,
 "nbformat_minor": 5
}
