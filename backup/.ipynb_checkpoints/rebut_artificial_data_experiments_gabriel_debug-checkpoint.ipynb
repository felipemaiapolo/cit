{
 "cells": [
  {
   "cell_type": "markdown",
   "id": "a07a8d48",
   "metadata": {},
   "source": [
    "# Setting things up"
   ]
  },
  {
   "cell_type": "code",
   "execution_count": 1,
   "id": "861d6c6c",
   "metadata": {},
   "outputs": [
    {
     "data": {
      "text/plain": [
       "8"
      ]
     },
     "execution_count": 1,
     "metadata": {},
     "output_type": "execute_result"
    }
   ],
   "source": [
    "from general import *\n",
    "from exp1 import *\n",
    "import time\n",
    "import pandas as pd\n",
    "import multiprocessing as mp\n",
    "\n",
    "random_state=42\n",
    "np.random.seed(random_state)\n",
    "cpu=mp.cpu_count() \n",
    "cpu"
   ]
  },
  {
   "cell_type": "code",
   "execution_count": 2,
   "id": "cad2ab90",
   "metadata": {},
   "outputs": [],
   "source": [
    "####\n",
    "alpha=.05 #Significance level\n",
    "iterations=100 #MC simulations to calculate type-1 error and power\n",
    "ps=[10] #Z dim\n",
    "p=ps[0]\n",
    "m=400 #Training set size 1200\n",
    "n=100 #Test set size\n",
    "B=100 #Number of permutations/samplings (RESIT,CRT,CPT)\n",
    "npar = 1 #Number of different values for parameters like gamma, theta, c etc.\n",
    "nbas = 25 #Number of different generative configurations (different pairs (a,b))\n",
    "\n",
    "####\n",
    "skews = [0]\n",
    "losses = ['mse']"
   ]
  },
  {
   "cell_type": "code",
   "execution_count": 3,
   "id": "886d6c7f",
   "metadata": {},
   "outputs": [],
   "source": [
    "bas = [[np.random.normal(0, 1, p).reshape(p,1), np.random.normal(0, 1, p).reshape(p,1)] for j in range(nbas)]"
   ]
  },
  {
   "cell_type": "code",
   "execution_count": 6,
   "id": "d84c96b7",
   "metadata": {},
   "outputs": [
    {
     "name": "stdout",
     "output_type": "stream",
     "text": [
      "c 0.2\n",
      "power 0.42\n",
      "power 0.41\n",
      "power 0.41\n",
      "power 0.41\n",
      "power 0.41\n",
      "power 0.41\n",
      "power 0.49\n",
      "power 0.42\n",
      "power 0.41\n",
      "power 0.34\n",
      "power 0.33\n",
      "power 0.41\n",
      "power 0.41\n",
      "power 0.41\n",
      "power 0.41\n",
      "power 0.49\n",
      "power 0.49\n",
      "power 0.41\n",
      "power 0.49\n",
      "power 0.49\n",
      "power 0.42\n",
      "power 0.42\n",
      "power 0.41\n",
      "power 0.41\n",
      "power 0.41\n"
     ]
    }
   ],
   "source": [
    "results = {'set':[], 'p':[],\n",
    "           'ba':[], 'c':[], 'theta':[], 'skew':[], 'gamma':[], 'loss':[],\n",
    "           'stfr':[], 'resit':[], 'gcm':[], 'crt':[], 'cpt':[],'rbpt':[], 'rbpt2':[]}\n",
    "\n",
    "count=0\n",
    "cs = [.2]\n",
    "for p in ps:\n",
    "    for c in cs:\n",
    "        print(\"c\",c)\n",
    "\n",
    "        for skew in skews:\n",
    "            for loss in losses:\n",
    "\n",
    "                #### Power ####\n",
    "                tests={'stfr':False, 'resit':False, 'gcm':False, 'crt':False, 'cpt':False,'rbpt':True, 'rbpt2':False}\n",
    "                theta = 0\n",
    "                gamma = 0\n",
    "                for ba in bas:\n",
    "                    # Parameters a and b\n",
    "                    b = ba[0]\n",
    "                    a = ba[1]\n",
    "                    \n",
    "                    # Running\n",
    "                    pool = mp.Pool(processes=cpu)\n",
    "                    out = pool.starmap(exp1, [(it, theta, gamma, c, a, b, skew, m, n, p, loss, alpha, B, tests) for it in range(iterations)])\n",
    "                    pool.close()\n",
    "                    \n",
    "                  \n",
    "                    out = np.array(out).mean(axis=0)\n",
    "                    print('power',out[5])\n",
    "\n",
    "                    # Storing results\n",
    "                    results['set'].append('power')\n",
    "                    results['p'].append(p)\n",
    "                    results['ba'].append(count); results['c'].append(c); results['theta'].append(theta); results['skew'].append(skew); results['gamma'].append(gamma); results['loss'].append(loss) \n",
    "                    results['stfr'].append(out[0]); results['resit'].append(out[1]); results['gcm'].append(out[2]); results['crt'].append(out[3]); results['cpt'].append(out[4]); results['rbpt'].append(out[5]); results['rbpt2'].append(out[6])\n",
    "\n",
    "        # Update 'count'\n",
    "        count+=1"
   ]
  },
  {
   "cell_type": "code",
   "execution_count": 9,
   "id": "ed4cb2c8",
   "metadata": {},
   "outputs": [
    {
     "name": "stdout",
     "output_type": "stream",
     "text": [
      "c 0.2\n",
      "power 0.28\n",
      "power 0.37\n",
      "power 0.33\n",
      "power 0.17\n",
      "power 0.16\n",
      "power 0.27\n",
      "power 0.3\n",
      "power 0.25\n",
      "power 0.34\n",
      "power 0.31\n",
      "power 0.25\n",
      "power 0.25\n",
      "power 0.33\n",
      "power 0.28\n",
      "power 0.23\n",
      "power 0.22\n",
      "power 0.24\n",
      "power 0.27\n",
      "power 0.23\n",
      "power 0.2\n",
      "power 0.31\n",
      "power 0.23\n",
      "power 0.18\n",
      "power 0.23\n",
      "power 0.25\n"
     ]
    }
   ],
   "source": [
    "results = {'set':[], 'p':[],\n",
    "           'ba':[], 'c':[], 'theta':[], 'skew':[], 'gamma':[], 'loss':[],\n",
    "           'stfr':[], 'resit':[], 'gcm':[], 'crt':[], 'cpt':[],'rbpt':[], 'rbpt2':[]}\n",
    "\n",
    "count=0\n",
    "for p in ps:\n",
    "    for c in cs:\n",
    "        print(\"c\",c)\n",
    "\n",
    "        for skew in skews:\n",
    "            for loss in losses:\n",
    "\n",
    "                #### Power ####\n",
    "                tests={'stfr':False, 'resit':False, 'gcm':False, 'crt':False, 'cpt':False,'rbpt':True, 'rbpt2':False}\n",
    "                theta = 0\n",
    "                gamma = 0\n",
    "                for ba in bas:\n",
    "                    # Parameters a and b\n",
    "                    b = ba[0]\n",
    "                    a = ba[1]\n",
    "                    # Running\n",
    "                    \n",
    "                    \n",
    "                    out = [exp1(it, theta, gamma, c, a, b, skew, m, n, p, loss, alpha, B, tests) for it in range(iterations)]\n",
    "                   \n",
    "                    out = np.array(out).mean(axis=0)\n",
    "                    print('power',out[5])\n",
    "\n",
    "                    # Storing results\n",
    "                    results['set'].append('power')\n",
    "                    results['p'].append(p)\n",
    "                    results['ba'].append(count); results['c'].append(c); results['theta'].append(theta); results['skew'].append(skew); results['gamma'].append(gamma); results['loss'].append(loss) \n",
    "                    results['stfr'].append(out[0]); results['resit'].append(out[1]); results['gcm'].append(out[2]); results['crt'].append(out[3]); results['cpt'].append(out[4]); results['rbpt'].append(out[5]); results['rbpt2'].append(out[6])\n",
    "\n",
    "        # Update 'count'\n",
    "        count+=1"
   ]
  },
  {
   "cell_type": "code",
   "execution_count": null,
   "id": "fd6d6848",
   "metadata": {},
   "outputs": [],
   "source": []
  }
 ],
 "metadata": {
  "kernelspec": {
   "display_name": "Python 3 (ipykernel)",
   "language": "python",
   "name": "python3"
  },
  "language_info": {
   "codemirror_mode": {
    "name": "ipython",
    "version": 3
   },
   "file_extension": ".py",
   "mimetype": "text/x-python",
   "name": "python",
   "nbconvert_exporter": "python",
   "pygments_lexer": "ipython3",
   "version": "3.7.13"
  }
 },
 "nbformat": 4,
 "nbformat_minor": 5
}
