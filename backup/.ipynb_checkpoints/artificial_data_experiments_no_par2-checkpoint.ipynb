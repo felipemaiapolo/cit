{
 "cells": [
  {
   "cell_type": "markdown",
   "id": "a07a8d48",
   "metadata": {},
   "source": [
    "# Setting things up"
   ]
  },
  {
   "cell_type": "code",
   "execution_count": 1,
   "id": "861d6c6c",
   "metadata": {},
   "outputs": [
    {
     "data": {
      "text/plain": [
       "8"
      ]
     },
     "execution_count": 1,
     "metadata": {},
     "output_type": "execute_result"
    }
   ],
   "source": [
    "from general import *\n",
    "from exp1 import *\n",
    "import time\n",
    "import pandas as pd\n",
    "import multiprocessing as mp\n",
    "\n",
    "random_state=42\n",
    "np.random.seed(random_state)\n",
    "cpu=mp.cpu_count() \n",
    "cpu"
   ]
  },
  {
   "cell_type": "code",
   "execution_count": 2,
   "id": "cad2ab90",
   "metadata": {},
   "outputs": [],
   "source": [
    "####\n",
    "alpha=.05 #Significance level\n",
    "iterations=1 #MC simulations to calculate type-1 error and power\n",
    "p=20 #Z dim\n",
    "m=400 #Training set size\n",
    "n=100 #Test set size\n",
    "B=100 #Number of permutations/samplings (RESIT,CRT,CPT)\n",
    "npar = 7 #Number of different values for parameters like gamma, theta, c etc.\n",
    "nbas = 500 #Number of different generative configurations (different pairs (a,b))\n",
    "\n",
    "####\n",
    "bas = [[np.random.normal(0, 1, p).reshape(p,1), np.random.normal(0, 1, p).reshape(p,1)] for j in range(nbas)]\n",
    "cs = np.linspace(0,.5,npar)\n",
    "skews = [0]\n",
    "losses = ['mae']"
   ]
  },
  {
   "cell_type": "code",
   "execution_count": 3,
   "id": "9dfb8c3c",
   "metadata": {},
   "outputs": [],
   "source": [
    "results = {'set':[], \n",
    "           'ba':[], 'c':[], 'theta':[], 'skew':[], 'gamma':[], 'loss':[],\n",
    "           'stfr':[], 'resit':[], 'gcm':[], 'crt':[], 'cpt':[],'rbpt':[], 'rbpt2':[]}"
   ]
  },
  {
   "cell_type": "markdown",
   "id": "42b311e0",
   "metadata": {},
   "source": [
    "# Experiments"
   ]
  },
  {
   "cell_type": "markdown",
   "id": "090e9501",
   "metadata": {},
   "source": [
    "## Set 1"
   ]
  },
  {
   "cell_type": "code",
   "execution_count": 4,
   "id": "66e73ea9",
   "metadata": {},
   "outputs": [],
   "source": [
    "theta=0"
   ]
  },
  {
   "cell_type": "code",
   "execution_count": null,
   "id": "c7ce9420",
   "metadata": {},
   "outputs": [
    {
     "name": "stderr",
     "output_type": "stream",
     "text": [
      " 26%|██▌       | 130/500 [15:35<46:52,  7.60s/it] "
     ]
    }
   ],
   "source": [
    "count=0\n",
    "\n",
    "for ba in tqdm(bas):\n",
    "    # Track progress\n",
    "    pd.DataFrame({'count_set1':[count]}).to_csv('progress.csv')\n",
    "    \n",
    "    # Parameters a and b\n",
    "    b = ba[0]\n",
    "    a = ba[1]\n",
    "            \n",
    "    for skew in skews:\n",
    "        for loss in losses:\n",
    "              \n",
    "            #### Type I error ####\n",
    "            c = 0\n",
    "            gammas = np.linspace(0,.04,npar)\n",
    "            for gamma in gammas:\n",
    "        \n",
    "                # Estimating Type I error\n",
    "                out = [set1(it, theta, gamma, c, a, b, skew, m, n, p, loss, alpha, B) for it in range(iterations)]\n",
    "                out = np.array(out).mean(axis=0)\n",
    "                \n",
    "                # Storing results\n",
    "                results['set'].append('set1_type1')\n",
    "                results['ba'].append(count); results['c'].append(c); results['theta'].append(theta); results['skew'].append(skew); results['gamma'].append(gamma); results['loss'].append(loss) \n",
    "                results['stfr'].append(out[0]); results['resit'].append(out[1]); results['gcm'].append(out[2]); results['crt'].append(999); results['cpt'].append(999); results['rbpt'].append(out[3]); results['rbpt2'].append(out[4])\n",
    "            \n",
    "            #### Power ####\n",
    "            gamma = 0\n",
    "            for c in cs:\n",
    "                \n",
    "                # Estimating Power\n",
    "                out = [set1(it, theta, gamma, c, a, b, skew, m, n, p, loss, alpha, B) for it in range(iterations)]\n",
    "                out = np.array(out).mean(axis=0)\n",
    "                \n",
    "                # Storing results\n",
    "                results['set'].append('set1_power')\n",
    "                results['ba'].append(count); results['c'].append(c); results['theta'].append(theta); results['skew'].append(skew); results['gamma'].append(gamma); results['loss'].append(loss) \n",
    "                results['stfr'].append(out[0]); results['resit'].append(out[1]); results['gcm'].append(out[2]); results['crt'].append(999); results['cpt'].append(999); results['rbpt'].append(out[3]); results['rbpt2'].append(out[4])\n",
    "            \n",
    "    # Update 'count'\n",
    "    count+=1"
   ]
  },
  {
   "cell_type": "markdown",
   "id": "d2996555",
   "metadata": {},
   "source": [
    "## Set 2"
   ]
  },
  {
   "cell_type": "code",
   "execution_count": null,
   "id": "93e88ca1",
   "metadata": {},
   "outputs": [],
   "source": [
    "gamma = 0"
   ]
  },
  {
   "cell_type": "code",
   "execution_count": null,
   "id": "482f64f9",
   "metadata": {},
   "outputs": [],
   "source": [
    "count=0\n",
    "\n",
    "for ba in tqdm(bas):\n",
    "    # Track progress\n",
    "    pd.DataFrame({'count_set2':[count]}).to_csv('progress.csv')\n",
    "    \n",
    "    # Parameters a and b\n",
    "    b = ba[0]\n",
    "    a = ba[1]\n",
    "            \n",
    "    for skew in skews:\n",
    "        for loss in losses:\n",
    "              \n",
    "            #### Type I error ####\n",
    "            c = 0\n",
    "            thetas = np.linspace(0,6,npar)\n",
    "            for theta in thetas:\n",
    "        \n",
    "                # Estimating Type I error\n",
    "                out = [set2(it, theta, gamma, c, a, b, skew, m, n, p, loss, alpha, B) for it in range(iterations)]\n",
    "                out = np.array(out).mean(axis=0)\n",
    "                \n",
    "                # Storing results\n",
    "                results['set'].append('set2_type1')\n",
    "                results['ba'].append(count); results['c'].append(c); results['theta'].append(theta); results['skew'].append(skew); results['gamma'].append(gamma); results['loss'].append(loss) \n",
    "                results['stfr'].append(999); results['resit'].append(999); results['gcm'].append(999); results['crt'].append(out[0]); results['cpt'].append(out[1]); results['rbpt'].append(out[2]); results['rbpt2'].append(999)\n",
    "            \n",
    "            #### Power ####\n",
    "            theta = 0\n",
    "            for c in cs:\n",
    "                \n",
    "                # Estimating Power\n",
    "                out = [set1(it, theta, gamma, c, a, b, skew, m, n, p, loss, alpha, B) for it in range(iterations)]\n",
    "                out = np.array(out).mean(axis=0)\n",
    "                \n",
    "                # Storing results\n",
    "                results['set'].append('set2_power')\n",
    "                results['ba'].append(count); results['c'].append(c); results['theta'].append(theta); results['skew'].append(skew); results['gamma'].append(gamma); results['loss'].append(loss) \n",
    "                results['stfr'].append(999); results['resit'].append(999); results['gcm'].append(999); results['crt'].append(out[0]); results['cpt'].append(out[1]); results['rbpt'].append(out[2]); results['rbpt2'].append(999)\n",
    "            \n",
    "    # Update 'count'\n",
    "    count+=1"
   ]
  },
  {
   "cell_type": "markdown",
   "id": "3266093a",
   "metadata": {},
   "source": [
    "## Saving results"
   ]
  },
  {
   "cell_type": "code",
   "execution_count": null,
   "id": "bf6f6c4e",
   "metadata": {},
   "outputs": [],
   "source": [
    "results = pd.DataFrame(results)\n",
    "results.to_csv('results/artificial_data_experiments_no_par2.csv')"
   ]
  },
  {
   "cell_type": "code",
   "execution_count": null,
   "id": "fff7294c",
   "metadata": {},
   "outputs": [],
   "source": [
    "for skew in skews:\n",
    "    for loss in losses:\n",
    "        ###\n",
    "        plt.figure(figsize=(.9*8,1*2))\n",
    "        plt.subplots_adjust(left, bottom, right, top, wspace, hspace)\n",
    "        plt.subplot(1, 2, 1)\n",
    "        plot_type1(results, sett='set1_type1', skew=skew, loss=loss, alpha=alpha, xlabel='$\\gamma$', ylabel='Type-1 error', legend=True)\n",
    "        plt.subplot(1, 2, 2)\n",
    "        plot_type1(results, sett='set2_type1', skew=skew, loss=loss, alpha=alpha, xlabel='$\\\\theta$', ylabel='Type-1 error', legend=True)\n",
    "        plt.savefig('plots/exp1_type1_{:}_{:}.png'.format(str(skew),loss), bbox_inches='tight', dpi=300, transparent=True)\n",
    "        plt.show()\n",
    "\n",
    "        ###\n",
    "        plt.figure(figsize=(.9*5,1*2))\n",
    "        plt.subplots_adjust(left, bottom, right, top, wspace, hspace)\n",
    "        plt.subplot(1, 1, 1)\n",
    "        plot_power(results, skew=skew, loss=loss, alpha=alpha, xlabel='$c$', ylabel='Power', legend=True)\n",
    "        plt.savefig('plots/exp1_power_{:}_{:}.png'.format(str(skew),loss), bbox_inches='tight', dpi=300, transparent=True)\n",
    "        plt.show()"
   ]
  }
 ],
 "metadata": {
  "kernelspec": {
   "display_name": "Python 3 (ipykernel)",
   "language": "python",
   "name": "python3"
  },
  "language_info": {
   "codemirror_mode": {
    "name": "ipython",
    "version": 3
   },
   "file_extension": ".py",
   "mimetype": "text/x-python",
   "name": "python",
   "nbconvert_exporter": "python",
   "pygments_lexer": "ipython3",
   "version": "3.7.13"
  }
 },
 "nbformat": 4,
 "nbformat_minor": 5
}
