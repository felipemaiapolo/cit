{
 "cells": [
  {
   "cell_type": "markdown",
   "id": "a07a8d48",
   "metadata": {},
   "source": [
    "# Setting things up"
   ]
  },
  {
   "cell_type": "code",
   "execution_count": 1,
   "id": "861d6c6c",
   "metadata": {},
   "outputs": [
    {
     "data": {
      "text/plain": [
       "8"
      ]
     },
     "execution_count": 1,
     "metadata": {},
     "output_type": "execute_result"
    }
   ],
   "source": [
    "from general import *\n",
    "from exp1 import *\n",
    "import time\n",
    "import pandas as pd\n",
    "import multiprocessing as mp\n",
    "\n",
    "random_state=42\n",
    "np.random.seed(random_state)\n",
    "cpu=mp.cpu_count() \n",
    "cpu"
   ]
  },
  {
   "cell_type": "code",
   "execution_count": 2,
   "id": "cad2ab90",
   "metadata": {},
   "outputs": [],
   "source": [
    "####\n",
    "alpha=.1 #Significance level\n",
    "iterations=48  #MC simulations to calculate type-1 error and power\n",
    "ps=[30] #Z dim\n",
    "skew=0\n",
    "m=800 #Training set size\n",
    "n=200 #Test set size\n",
    "B=100 #Number of permutations/samplings (RESIT,CRT,CPT)\n",
    "npar = 7 #Number of different values for parameters like gamma, theta, c etc.\n",
    "nbas = 10 #Number of different generative configurations (different pairs (a,b))\n",
    "\n",
    "####\n",
    "skews = [0]\n",
    "losses = ['mse']"
   ]
  },
  {
   "cell_type": "markdown",
   "id": "42b311e0",
   "metadata": {},
   "source": [
    "# Experiments"
   ]
  },
  {
   "cell_type": "code",
   "execution_count": 3,
   "id": "c7ce9420",
   "metadata": {
    "scrolled": true
   },
   "outputs": [
    {
     "name": "stderr",
     "output_type": "stream",
     "text": [
      "100%|█████████████████████████████████████████████| 4/4 [01:58<00:00, 29.66s/it]\n",
      "100%|█████████████████████████████████████████████| 4/4 [02:10<00:00, 32.75s/it]\n",
      "100%|█████████████████████████████████████████████| 4/4 [02:17<00:00, 34.50s/it]\n",
      "100%|█████████████████████████████████████████████| 4/4 [02:33<00:00, 38.31s/it]\n",
      "100%|█████████████████████████████████████████████| 4/4 [02:49<00:00, 42.39s/it]\n",
      "100%|█████████████████████████████████████████████| 4/4 [03:05<00:00, 46.31s/it]\n",
      "100%|█████████████████████████████████████████████| 4/4 [03:40<00:00, 55.04s/it]\n",
      "100%|█████████████████████████████████████████████| 4/4 [03:39<00:00, 54.98s/it]\n",
      "100%|█████████████████████████████████████████████| 4/4 [03:37<00:00, 54.49s/it]\n",
      "100%|█████████████████████████████████████████████| 4/4 [03:17<00:00, 49.42s/it]\n"
     ]
    }
   ],
   "source": [
    "results = {'set':[], 'p':[],\n",
    "           'ba':[], 'c':[], 'theta':[], 'skew':[], 'gamma':[], 'loss':[],\n",
    "           'stfr':[], 'resit':[], 'gcm':[], 'crt':[], 'cpt':[],'rbpt':[], 'rbpt2':[],\n",
    "           'stfr_time':[], 'resit_time':[], 'gcm_time':[], 'crt_time':[], 'cpt_time':[], 'rbpt_time':[], 'rbpt2_time':[]}\n",
    "\n",
    "count=0\n",
    "\n",
    "for p in ps:\n",
    "    \n",
    "    bas = [[np.random.normal(0, 1, p).reshape(p,1), np.random.normal(0, 1, p).reshape(p,1)] for j in range(nbas)]\n",
    "    \n",
    "    for ba in bas:\n",
    "        # Parameters a and b\n",
    "        b = ba[0]\n",
    "        a = ba[1]\n",
    "        \n",
    "        thetas = [0,2,4,6]\n",
    "        for theta in tqdm(thetas):\n",
    "            for loss in losses:\n",
    "\n",
    "                #### Type I error ####\n",
    "                c = 0\n",
    "\n",
    "                #STFR,RESIT,GCM,RBPT,RBPT2#\n",
    "                tests={'stfr':False, 'resit':False, 'gcm':False, 'crt':True, 'cpt':True, 'rbpt':True, 'rbpt2':False}\n",
    "                gammas = np.linspace(0,.02,npar)\n",
    "                for gamma in gammas:\n",
    "                    # Running\n",
    "                    pool = mp.Pool(cpu)\n",
    "                    out = pool.starmap(exp1, [(it, theta, gamma, c, a, b, skew, m, n, p, loss, alpha, B, tests) for it in range(iterations)])\n",
    "                    pool.close()\n",
    "                    pool.join()\n",
    "                    out = np.array(out).mean(axis=0)\n",
    "\n",
    "                    # Storing results\n",
    "                    results['set'].append('type1_1'); results['p'].append(p)\n",
    "                    results['ba'].append(count); results['c'].append(c); results['theta'].append(theta); results['skew'].append(skew); results['gamma'].append(gamma); results['loss'].append(loss) \n",
    "                    results['stfr'].append(out[0]); results['resit'].append(out[1]); results['gcm'].append(out[2]); results['crt'].append(out[3]); results['cpt'].append(out[4]); results['rbpt'].append(out[5]); results['rbpt2'].append(out[6])\n",
    "                    results['stfr_time'].append(out[7]); results['resit_time'].append(out[8]); results['gcm_time'].append(out[9]); results['crt_time'].append(out[10]); results['cpt_time'].append(out[11]); results['rbpt_time'].append(out[12]); results['rbpt2_time'].append(out[13])\n",
    "                \n",
    "        # Update 'count'\n",
    "        count+=1"
   ]
  },
  {
   "cell_type": "markdown",
   "id": "3266093a",
   "metadata": {},
   "source": [
    "## Saving results"
   ]
  },
  {
   "cell_type": "code",
   "execution_count": 4,
   "id": "56c6d322",
   "metadata": {},
   "outputs": [],
   "source": [
    "results = pd.DataFrame(results)\n",
    "results.to_csv('results/artificial_data_experiments3.csv')"
   ]
  },
  {
   "cell_type": "code",
   "execution_count": 5,
   "id": "323fdb16",
   "metadata": {},
   "outputs": [],
   "source": [
    "results = pd.read_csv('results/artificial_data_experiments3.csv')"
   ]
  },
  {
   "cell_type": "code",
   "execution_count": 6,
   "id": "fe3524b8",
   "metadata": {},
   "outputs": [
    {
     "data": {
      "text/html": [
       "<div>\n",
       "<style scoped>\n",
       "    .dataframe tbody tr th:only-of-type {\n",
       "        vertical-align: middle;\n",
       "    }\n",
       "\n",
       "    .dataframe tbody tr th {\n",
       "        vertical-align: top;\n",
       "    }\n",
       "\n",
       "    .dataframe thead th {\n",
       "        text-align: right;\n",
       "    }\n",
       "</style>\n",
       "<table border=\"1\" class=\"dataframe\">\n",
       "  <thead>\n",
       "    <tr style=\"text-align: right;\">\n",
       "      <th></th>\n",
       "      <th>stfr_time</th>\n",
       "      <th>resit_time</th>\n",
       "      <th>gcm_time</th>\n",
       "      <th>crt_time</th>\n",
       "      <th>cpt_time</th>\n",
       "      <th>rbpt_time</th>\n",
       "      <th>rbpt2_time</th>\n",
       "    </tr>\n",
       "  </thead>\n",
       "  <tbody>\n",
       "    <tr>\n",
       "      <th>count</th>\n",
       "      <td>0.0</td>\n",
       "      <td>0.0</td>\n",
       "      <td>0.0</td>\n",
       "      <td>280.000000</td>\n",
       "      <td>280.000000</td>\n",
       "      <td>280.000000</td>\n",
       "      <td>0.0</td>\n",
       "    </tr>\n",
       "    <tr>\n",
       "      <th>mean</th>\n",
       "      <td>NaN</td>\n",
       "      <td>NaN</td>\n",
       "      <td>NaN</td>\n",
       "      <td>0.023546</td>\n",
       "      <td>0.792180</td>\n",
       "      <td>0.000719</td>\n",
       "      <td>NaN</td>\n",
       "    </tr>\n",
       "    <tr>\n",
       "      <th>std</th>\n",
       "      <td>NaN</td>\n",
       "      <td>NaN</td>\n",
       "      <td>NaN</td>\n",
       "      <td>0.007291</td>\n",
       "      <td>0.187856</td>\n",
       "      <td>0.000213</td>\n",
       "      <td>NaN</td>\n",
       "    </tr>\n",
       "    <tr>\n",
       "      <th>min</th>\n",
       "      <td>NaN</td>\n",
       "      <td>NaN</td>\n",
       "      <td>NaN</td>\n",
       "      <td>0.012133</td>\n",
       "      <td>0.446978</td>\n",
       "      <td>0.000350</td>\n",
       "      <td>NaN</td>\n",
       "    </tr>\n",
       "    <tr>\n",
       "      <th>25%</th>\n",
       "      <td>NaN</td>\n",
       "      <td>NaN</td>\n",
       "      <td>NaN</td>\n",
       "      <td>0.018727</td>\n",
       "      <td>0.626663</td>\n",
       "      <td>0.000557</td>\n",
       "      <td>NaN</td>\n",
       "    </tr>\n",
       "    <tr>\n",
       "      <th>50%</th>\n",
       "      <td>NaN</td>\n",
       "      <td>NaN</td>\n",
       "      <td>NaN</td>\n",
       "      <td>0.023722</td>\n",
       "      <td>0.793435</td>\n",
       "      <td>0.000730</td>\n",
       "      <td>NaN</td>\n",
       "    </tr>\n",
       "    <tr>\n",
       "      <th>75%</th>\n",
       "      <td>NaN</td>\n",
       "      <td>NaN</td>\n",
       "      <td>NaN</td>\n",
       "      <td>0.027603</td>\n",
       "      <td>0.930755</td>\n",
       "      <td>0.000840</td>\n",
       "      <td>NaN</td>\n",
       "    </tr>\n",
       "    <tr>\n",
       "      <th>max</th>\n",
       "      <td>NaN</td>\n",
       "      <td>NaN</td>\n",
       "      <td>NaN</td>\n",
       "      <td>0.097350</td>\n",
       "      <td>1.541942</td>\n",
       "      <td>0.001814</td>\n",
       "      <td>NaN</td>\n",
       "    </tr>\n",
       "  </tbody>\n",
       "</table>\n",
       "</div>"
      ],
      "text/plain": [
       "       stfr_time  resit_time  gcm_time    crt_time    cpt_time   rbpt_time  \\\n",
       "count        0.0         0.0       0.0  280.000000  280.000000  280.000000   \n",
       "mean         NaN         NaN       NaN    0.023546    0.792180    0.000719   \n",
       "std          NaN         NaN       NaN    0.007291    0.187856    0.000213   \n",
       "min          NaN         NaN       NaN    0.012133    0.446978    0.000350   \n",
       "25%          NaN         NaN       NaN    0.018727    0.626663    0.000557   \n",
       "50%          NaN         NaN       NaN    0.023722    0.793435    0.000730   \n",
       "75%          NaN         NaN       NaN    0.027603    0.930755    0.000840   \n",
       "max          NaN         NaN       NaN    0.097350    1.541942    0.001814   \n",
       "\n",
       "       rbpt2_time  \n",
       "count         0.0  \n",
       "mean          NaN  \n",
       "std           NaN  \n",
       "min           NaN  \n",
       "25%           NaN  \n",
       "50%           NaN  \n",
       "75%           NaN  \n",
       "max           NaN  "
      ]
     },
     "execution_count": 6,
     "metadata": {},
     "output_type": "execute_result"
    }
   ],
   "source": [
    "results.iloc[:,16:].describe()"
   ]
  },
  {
   "cell_type": "code",
   "execution_count": 7,
   "id": "5bcf5019",
   "metadata": {},
   "outputs": [],
   "source": [
    "columns_by = ['set','c','theta','skew','gamma','loss']\n",
    "results_mean = results.groupby(by=columns_by).mean().reset_index()\n",
    "results_std = results.groupby(by=columns_by).std().reset_index()\n",
    "\n",
    "colors = ['#1f77b4', '#8c564b', '#e377c2']\n",
    "names=['RBPT', 'CRT', 'CPT']"
   ]
  },
  {
   "cell_type": "code",
   "execution_count": 13,
   "id": "b882ad68",
   "metadata": {},
   "outputs": [
    {
     "data": {
      "image/png": "[encoded data removed]",
      "text/plain": [
       "<Figure size 864x144 with 4 Axes>"
      ]
     },
     "metadata": {
      "needs_background": "light"
     },
     "output_type": "display_data"
    }
   ],
   "source": [
    "plt.figure(figsize=(12,2))\n",
    "plt.subplots_adjust(left, bottom, right, top, .25, hspace)\n",
    "\n",
    "for i in range(len(thetas)):\n",
    "    plt.subplot(1, len(thetas), i+1)\n",
    "    theta = thetas[i]\n",
    "    \n",
    "    j, x, y, z = 0, gammas, results_mean.loc[results_mean.theta==theta].rbpt, results_std.loc[results_std.theta==theta].rbpt\n",
    "    plt.plot(x, y, label=names[j], color=colors[j])\n",
    "    plt.fill_between(x, y-z, y+z, color=colors[j], alpha=.15)\n",
    "\n",
    "    j, x, y, z = 1, gammas, results_mean.loc[results_mean.theta==theta].crt, results_std.loc[results_std.theta==theta].crt\n",
    "    plt.plot(x, y, label=names[j], color=colors[j])\n",
    "    plt.fill_between(x, y-z, y+z, color=colors[j], alpha=.15)\n",
    "\n",
    "    j, x, y, z = 2, gammas, results_mean.loc[results_mean.theta==theta].cpt, results_std.loc[results_std.theta==theta].cpt\n",
    "    plt.plot(x, y, label=names[j], color=colors[j])\n",
    "    plt.fill_between(x, y-z, y+z, color=colors[j], alpha=.15)\n",
    "\n",
    "    plt.xticks(fontsize=12)\n",
    "    plt.xlabel('$\\gamma$', size=15)\n",
    "    plt.yticks(fontsize=12)\n",
    "    if i==0:\n",
    "        plt.ylabel('Type-I error rate', size=15)\n",
    "    else:\n",
    "        plt.ylabel('', size=1)\n",
    "    plt.title(\"$\\\\theta={:}$\".format(theta))\n",
    "    plt.grid(alpha=.2)\n",
    "    plt.ylim(0,1)\n",
    "    plt.axhline(y=alpha, color='r', linestyle='--', lw=1, alpha=.5)\n",
    "    plt.legend()\n",
    "\n",
    "plt.savefig('plots/exp_review1.png', bbox_inches='tight', dpi=300, transparent=True)    \n",
    "plt.show()"
   ]
  },
  {
   "cell_type": "code",
   "execution_count": null,
   "id": "c86eaf1b",
   "metadata": {},
   "outputs": [],
   "source": []
  },
  {
   "cell_type": "code",
   "execution_count": null,
   "id": "21f55906",
   "metadata": {},
   "outputs": [],
   "source": []
  }
 ],
 "metadata": {
  "kernelspec": {
   "display_name": "Python 3 (ipykernel)",
   "language": "python",
   "name": "python3"
  },
  "language_info": {
   "codemirror_mode": {
    "name": "ipython",
    "version": 3
   },
   "file_extension": ".py",
   "mimetype": "text/x-python",
   "name": "python",
   "nbconvert_exporter": "python",
   "pygments_lexer": "ipython3",
   "version": "3.7.13"
  }
 },
 "nbformat": 4,
 "nbformat_minor": 5
}
