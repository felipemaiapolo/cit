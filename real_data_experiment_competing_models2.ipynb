{
 "cells": [
  {
   "cell_type": "code",
   "execution_count": 1,
   "id": "0ed45685",
   "metadata": {},
   "outputs": [],
   "source": [
    "from general import *\n",
    "from exp2 import *\n",
    "import time\n",
    "\n",
    "random_state=42\n",
    "np.random.seed(random_state)"
   ]
  },
  {
   "cell_type": "markdown",
   "id": "5a944a2d",
   "metadata": {},
   "source": [
    "## Experiment "
   ]
  },
  {
   "cell_type": "code",
   "execution_count": 2,
   "id": "4a976955",
   "metadata": {},
   "outputs": [],
   "source": [
    "states=['ca','il','mo','tx']\n",
    "labels = ['California','Illinois','Missouri','Texas']\n",
    "alpha=.1\n",
    "loss='mse'\n",
    "B=100\n",
    "colors=['#1f77b4', '#ff7f0e', '#2ca02c', '#d62728', '#9467bd', '#8c564b', '#e377c2']"
   ]
  },
  {
   "cell_type": "code",
   "execution_count": 3,
   "id": "49369838",
   "metadata": {},
   "outputs": [
    {
     "data": {
      "text/html": [
       "<div>\n",
       "<style scoped>\n",
       "    .dataframe tbody tr th:only-of-type {\n",
       "        vertical-align: middle;\n",
       "    }\n",
       "\n",
       "    .dataframe tbody tr th {\n",
       "        vertical-align: top;\n",
       "    }\n",
       "\n",
       "    .dataframe thead th {\n",
       "        text-align: right;\n",
       "    }\n",
       "</style>\n",
       "<table border=\"1\" class=\"dataframe\">\n",
       "  <thead>\n",
       "    <tr style=\"text-align: right;\">\n",
       "      <th></th>\n",
       "      <th>zipcode</th>\n",
       "      <th>minority</th>\n",
       "      <th>companies_name</th>\n",
       "      <th>name</th>\n",
       "      <th>bi_policy_premium</th>\n",
       "      <th>pd_policy_premium</th>\n",
       "      <th>state_risk</th>\n",
       "      <th>white_non_hisp_pct</th>\n",
       "      <th>risk_difference</th>\n",
       "      <th>combined_premium</th>\n",
       "    </tr>\n",
       "  </thead>\n",
       "  <tbody>\n",
       "    <tr>\n",
       "      <th>0</th>\n",
       "      <td>63005</td>\n",
       "      <td>False</td>\n",
       "      <td>21st Century Centennial Ins Co</td>\n",
       "      <td>FARMERS INS GRP</td>\n",
       "      <td>321</td>\n",
       "      <td>211.0</td>\n",
       "      <td>216.029693</td>\n",
       "      <td>87.9</td>\n",
       "      <td>315.970307</td>\n",
       "      <td>532.0</td>\n",
       "    </tr>\n",
       "    <tr>\n",
       "      <th>1</th>\n",
       "      <td>63010</td>\n",
       "      <td>False</td>\n",
       "      <td>21st Century Centennial Ins Co</td>\n",
       "      <td>FARMERS INS GRP</td>\n",
       "      <td>342</td>\n",
       "      <td>192.0</td>\n",
       "      <td>251.359806</td>\n",
       "      <td>93.9</td>\n",
       "      <td>282.640194</td>\n",
       "      <td>534.0</td>\n",
       "    </tr>\n",
       "    <tr>\n",
       "      <th>2</th>\n",
       "      <td>63011</td>\n",
       "      <td>False</td>\n",
       "      <td>21st Century Centennial Ins Co</td>\n",
       "      <td>FARMERS INS GRP</td>\n",
       "      <td>321</td>\n",
       "      <td>211.0</td>\n",
       "      <td>225.421778</td>\n",
       "      <td>88.9</td>\n",
       "      <td>306.578222</td>\n",
       "      <td>532.0</td>\n",
       "    </tr>\n",
       "    <tr>\n",
       "      <th>3</th>\n",
       "      <td>63012</td>\n",
       "      <td>False</td>\n",
       "      <td>21st Century Centennial Ins Co</td>\n",
       "      <td>FARMERS INS GRP</td>\n",
       "      <td>342</td>\n",
       "      <td>192.0</td>\n",
       "      <td>210.286312</td>\n",
       "      <td>97.2</td>\n",
       "      <td>323.713688</td>\n",
       "      <td>534.0</td>\n",
       "    </tr>\n",
       "    <tr>\n",
       "      <th>4</th>\n",
       "      <td>63013</td>\n",
       "      <td>False</td>\n",
       "      <td>21st Century Centennial Ins Co</td>\n",
       "      <td>FARMERS INS GRP</td>\n",
       "      <td>317</td>\n",
       "      <td>141.0</td>\n",
       "      <td>158.592140</td>\n",
       "      <td>100.0</td>\n",
       "      <td>299.407860</td>\n",
       "      <td>458.0</td>\n",
       "    </tr>\n",
       "  </tbody>\n",
       "</table>\n",
       "</div>"
      ],
      "text/plain": [
       "   zipcode  minority                  companies_name             name  \\\n",
       "0    63005     False  21st Century Centennial Ins Co  FARMERS INS GRP   \n",
       "1    63010     False  21st Century Centennial Ins Co  FARMERS INS GRP   \n",
       "2    63011     False  21st Century Centennial Ins Co  FARMERS INS GRP   \n",
       "3    63012     False  21st Century Centennial Ins Co  FARMERS INS GRP   \n",
       "4    63013     False  21st Century Centennial Ins Co  FARMERS INS GRP   \n",
       "\n",
       "   bi_policy_premium  pd_policy_premium  state_risk  white_non_hisp_pct  \\\n",
       "0                321              211.0  216.029693                87.9   \n",
       "1                342              192.0  251.359806                93.9   \n",
       "2                321              211.0  225.421778                88.9   \n",
       "3                342              192.0  210.286312                97.2   \n",
       "4                317              141.0  158.592140               100.0   \n",
       "\n",
       "   risk_difference  combined_premium  \n",
       "0       315.970307             532.0  \n",
       "1       282.640194             534.0  \n",
       "2       306.578222             532.0  \n",
       "3       323.713688             534.0  \n",
       "4       299.407860             458.0  "
      ]
     },
     "execution_count": 3,
     "metadata": {},
     "output_type": "execute_result"
    }
   ],
   "source": [
    "data = pd.read_csv('data/car-insurance-public/data/mo-per-zip.csv')\n",
    "data.head()"
   ]
  },
  {
   "cell_type": "code",
   "execution_count": 4,
   "id": "0b5870c5",
   "metadata": {},
   "outputs": [
    {
     "name": "stderr",
     "output_type": "stream",
     "text": [
      "100%|█████████████████████████████████████████████| 4/4 [00:31<00:00,  7.77s/it]\n"
     ]
    }
   ],
   "source": [
    "pvals=[]\n",
    "times=[]\n",
    "\n",
    "for s in tqdm(states):\n",
    "    data = pd.read_csv('data/car-insurance-public/data/' + s + '-per-zip.csv')\n",
    "\n",
    "    Z = np.array(data.state_risk).reshape((-1,1))\n",
    "    Y = np.array(data.combined_premium).reshape((-1,1))\n",
    "    X = (1*np.array(data.minority)).reshape((-1,1))\n",
    "    X_train, X_test, Y_train, Y_test = train_test_split(X, Y, test_size=.3, random_state=random_state)\n",
    "    Z_train, Z_test, _, _ = train_test_split(Z, Y, test_size=.3, random_state=random_state)\n",
    "\n",
    "    ###Fitting models\n",
    "    g1 = g()\n",
    "    g1.fit(X_train, Z_train, Y_train)\n",
    "    g2 = g()\n",
    "    g2.fit(None, Z_train, Y_train)\n",
    "    \n",
    "    ###RBPT\n",
    "    p = LogisticRegressionCV(cv=5, scoring='neg_log_loss', solver='liblinear', random_state=0).fit(Z_train, X_train.squeeze())\n",
    "    H_test = np.sum(p.predict_proba(Z_test)*np.hstack((g1.predict(np.zeros(X_test.shape),Z_test).reshape(-1,1),\n",
    "                                                       g1.predict(np.ones(X_test.shape),Z_test).reshape(-1,1))), axis=1).reshape(-1,1)\n",
    "    pval_rbpt = get_pval_rbpt(X_test, Z_test, Y_test, H_test, g1, loss=loss)\n",
    "\n",
    "    ###RBPT2\n",
    "    h = get_h(Z_train, g1.predict(X_train,Z_train).squeeze())\n",
    "    pval_rbpt2 = get_pval_rbpt2(X_test, Z_test, Y_test, g1, h, loss=loss)\n",
    "    \n",
    "    ###STFR\n",
    "    pval_stfr = get_pval_stfr(X_test, Z_test, Y_test, g1, g2, loss=loss)\n",
    "\n",
    "\n",
    "    ###GCM\n",
    "    pval_gcm = get_pval_gcm(X_test, Z_test, Y_test, g2, p) \n",
    "    \n",
    "\n",
    "    ###CRT\n",
    "    pval_crt = get_pval_crt(X_test, Z_test, Y_test, p, g1, g2, B=B, loss=loss)\n",
    "\n",
    "\n",
    "    ###CPT\n",
    "    pval_cpt = get_pval_cpt(X_test, Z_test, Y_test, p, g1, g2, B=B, loss=loss)\n",
    "\n",
    "    \n",
    "    ###Storing\n",
    "    pvals.append([pval_rbpt, pval_rbpt2, pval_stfr, pval_gcm, pval_crt, pval_cpt])\n",
    "\n",
    "pvals=np.array(pvals)"
   ]
  },
  {
   "cell_type": "code",
   "execution_count": 5,
   "id": "f943ae68",
   "metadata": {
    "scrolled": true
   },
   "outputs": [],
   "source": [
    "pvals_rbpt = pvals[:,0]\n",
    "pvals_rbpt2 = pvals[:,1]\n",
    "pvals_stfr = pvals[:,2]\n",
    "pvals_gcm = pvals[:,3]\n",
    "pvals_crt = pvals[:,4]\n",
    "pvals_cpt = pvals[:,5]"
   ]
  },
  {
   "cell_type": "code",
   "execution_count": 6,
   "id": "4b4c86a8",
   "metadata": {},
   "outputs": [
    {
     "data": {
      "image/png": "[encoded data removed]",
      "text/plain": [
       "<Figure size 432x288 with 1 Axes>"
      ]
     },
     "metadata": {
      "needs_background": "light"
     },
     "output_type": "display_data"
    }
   ],
   "source": [
    "x = np.arange(len(labels))  # the label locations\n",
    "width = 0.4  # the width of the bars\n",
    "\n",
    "rects1 = plt.bar(x - width*5/8, pvals_rbpt, width*2/8, label='RBPT', color=colors[0], alpha=.8)\n",
    "rects2 = plt.bar(x - width*3/8, pvals_rbpt2, width*2/8, label='RBPT2', color=colors[1], alpha=.8)\n",
    "rects3 = plt.bar(x - width*1/8, pvals_stfr, width*2/8, label='STFR', color=colors[2], alpha=.8)\n",
    "rects5 = plt.bar(x + width*1/8, pvals_gcm, width*2/8, label='GCM', color=colors[4], alpha=.8)\n",
    "rects6 = plt.bar(x + width*3/8, pvals_crt, width*2/8, label='CRT', color=colors[5], alpha=.8)\n",
    "rects7 = plt.bar(x + width*5/8, pvals_cpt, width*2/8, label='CPT', color=colors[6], alpha=.8)\n",
    "\n",
    "\n",
    "# Add some text for labels, title and custom x-axis tick labels, etc.\n",
    "plt.ylabel('$p$-value', size=19)\n",
    "plt.xticks(x, labels, fontsize=17)\n",
    "plt.legend(framealpha=0.75, prop={'size': 15}, ncol=3) \n",
    "#plt.axhline(y=alpha, color='black', linestyle='--', lw=1, alpha=.75)\n",
    "plt.yticks(fontsize=17)\n",
    "plt.ylim(0,.3)\n",
    "plt.grid(alpha=.2)\n",
    "\n",
    "plt.savefig('plots/exp22_revision.png', bbox_inches='tight', dpi=300, transparent=True)\n",
    "plt.show()"
   ]
  },
  {
   "cell_type": "code",
   "execution_count": null,
   "id": "40a48877",
   "metadata": {},
   "outputs": [],
   "source": []
  }
 ],
 "metadata": {
  "kernelspec": {
   "display_name": "Python 3 (ipykernel)",
   "language": "python",
   "name": "python3"
  },
  "language_info": {
   "codemirror_mode": {
    "name": "ipython",
    "version": 3
   },
   "file_extension": ".py",
   "mimetype": "text/x-python",
   "name": "python",
   "nbconvert_exporter": "python",
   "pygments_lexer": "ipython3",
   "version": "3.7.13"
  }
 },
 "nbformat": 4,
 "nbformat_minor": 5
}
