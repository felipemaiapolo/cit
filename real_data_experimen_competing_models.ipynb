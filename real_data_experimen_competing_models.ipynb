{
 "cells": [
  {
   "cell_type": "code",
   "execution_count": 1,
   "id": "0ed45685",
   "metadata": {},
   "outputs": [
    {
     "data": {
      "text/plain": [
       "8"
      ]
     },
     "execution_count": 1,
     "metadata": {},
     "output_type": "execute_result"
    }
   ],
   "source": [
    "from general import *\n",
    "from exp2 import *\n",
    "import time\n",
    "import copy\n",
    "import multiprocessing as mp\n",
    "\n",
    "random_state=42\n",
    "np.random.seed(random_state)\n",
    "cpu=mp.cpu_count() \n",
    "cpu"
   ]
  },
  {
   "cell_type": "markdown",
   "id": "5a944a2d",
   "metadata": {},
   "source": [
    "## Experiment "
   ]
  },
  {
   "cell_type": "code",
   "execution_count": 2,
   "id": "4a976955",
   "metadata": {},
   "outputs": [],
   "source": [
    "labels = ['California','Illinois','Missouri','Texas']\n",
    "alpha=.1\n",
    "loss='mse'\n",
    "colors = ['#1f77b4', '#ff7f0e', '#2ca02c', '#d62728', '#9467bd', '#8c564b', '#e377c2']\n",
    "B=100\n",
    "n_vals=20\n",
    "iterations=48\n",
    "percent=False"
   ]
  },
  {
   "cell_type": "code",
   "execution_count": 3,
   "id": "e3f30511",
   "metadata": {},
   "outputs": [
    {
     "name": "stdout",
     "output_type": "stream",
     "text": [
      "CPU times: user 514 ms, sys: 324 ms, total: 838 ms\n",
      "Wall time: 11min 16s\n"
     ]
    }
   ],
   "source": [
    "%%time\n",
    "pool = mp.Pool(cpu)\n",
    "out = pool.starmap(exp22, [(it, n_vals, loss, alpha, B, percent) for it in range(iterations)])\n",
    "pool.close()                 "
   ]
  },
  {
   "cell_type": "code",
   "execution_count": 4,
   "id": "3d635128",
   "metadata": {},
   "outputs": [
    {
     "name": "stdout",
     "output_type": "stream",
     "text": [
      "Running time (ms). rbpt: 96.4; rbpt2: 244.7; stfr: 0.6; gcm: 0.6; crt: 23.9; cpt: 695.1\n"
     ]
    }
   ],
   "source": [
    "times = np.array([o[1] for o in out])[:,:,1:].mean(axis=0).mean(axis=0)\n",
    "results = np.array([o[0] for o in out])\n",
    "print(\"Running time (ms). rbpt: {:.1f}; rbpt2: {:.1f}; stfr: {:.1f}; gcm: {:.1f}; crt: {:.1f}; cpt: {:.1f}\".format(1e3*times[0],1e3*times[1],1e3*times[2],1e3*times[3],1e3*times[4],1e3*times[5]))"
   ]
  },
  {
   "cell_type": "code",
   "execution_count": 6,
   "id": "6fcd9224",
   "metadata": {},
   "outputs": [],
   "source": [
    "reject_prop = np.array(results).mean(axis=0) \n",
    "reject_rbpt = reject_prop[:,0]\n",
    "reject_rbpt2 = reject_prop[:,1]\n",
    "reject_stfr = reject_prop[:,2]\n",
    "reject_gcm = reject_prop[:,3]\n",
    "reject_crt = reject_prop[:,4]\n",
    "reject_cpt = reject_prop[:,5]"
   ]
  },
  {
   "cell_type": "code",
   "execution_count": 18,
   "id": "327e7105",
   "metadata": {},
   "outputs": [
    {
     "data": {
      "image/png": "[encoded data removed]",
      "text/plain": [
       "<Figure size 432x288 with 1 Axes>"
      ]
     },
     "metadata": {
      "needs_background": "light"
     },
     "output_type": "display_data"
    }
   ],
   "source": [
    "x = np.arange(len(labels))  # the label locations\n",
    "width = 0.4  # the width of the bars\n",
    "\n",
    "rects1 = plt.bar(x - width*5/8, reject_rbpt, width*2/8, label='RBPT', color=colors[0], alpha=.8)\n",
    "rects2 = plt.bar(x - width*3/8, reject_rbpt2, width*2/8, label='RBPT2', color=colors[1], alpha=.8)\n",
    "rects3 = plt.bar(x - width*1/8, reject_stfr, width*2/8, label='STFR', color=colors[2], alpha=.8)\n",
    "rects5 = plt.bar(x + width*1/8, reject_gcm, width*2/8, label='GCM', color=colors[4], alpha=.8)\n",
    "rects6 = plt.bar(x + width*3/8, reject_crt, width*2/8, label='CRT', color=colors[5], alpha=.8)\n",
    "rects7 = plt.bar(x + width*5/8, reject_cpt, width*2/8, label='CPT', color=colors[6], alpha=.8)\n",
    "\n",
    "\n",
    "# Add some text for labels, title and custom x-axis tick labels, etc.\n",
    "plt.ylabel('Type-I error rate', size=19)\n",
    "plt.xticks(x, labels, fontsize=17)\n",
    "plt.legend(framealpha=0.75, prop={'size': 15}, ncol=3) \n",
    "plt.axhline(y=alpha, color='black', linestyle='--', lw=1, alpha=.75)\n",
    "plt.yticks(fontsize=17)\n",
    "plt.ylim(0,.3)\n",
    "plt.grid(alpha=.2)\n",
    "\n",
    "plt.savefig('plots/exp22_{:}_{:}.png'.format(loss,percent), bbox_inches='tight', dpi=300, transparent=True)\n",
    "plt.show()"
   ]
  },
  {
   "cell_type": "code",
   "execution_count": null,
   "id": "24cdecc3",
   "metadata": {},
   "outputs": [],
   "source": []
  }
 ],
 "metadata": {
  "kernelspec": {
   "display_name": "Python 3 (ipykernel)",
   "language": "python",
   "name": "python3"
  },
  "language_info": {
   "codemirror_mode": {
    "name": "ipython",
    "version": 3
   },
   "file_extension": ".py",
   "mimetype": "text/x-python",
   "name": "python",
   "nbconvert_exporter": "python",
   "pygments_lexer": "ipython3",
   "version": "3.7.13"
  }
 },
 "nbformat": 4,
 "nbformat_minor": 5
}
